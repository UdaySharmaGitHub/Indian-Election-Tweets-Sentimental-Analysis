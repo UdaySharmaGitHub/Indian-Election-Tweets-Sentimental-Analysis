{
 "cells": [
  {
   "cell_type": "code",
   "execution_count": 48,
   "id": "e09f2b70",
   "metadata": {},
   "outputs": [],
   "source": [
    "import nltk\n",
    "import pandas as pd\n",
    "import numpy as np\n",
    "import matplotlib.pyplot as plt\n",
    "from collections import Counter\n",
    "from nltk.tokenize import word_tokenize\n",
    "from nltk.corpus import stopwords\n",
    "from tqdm.notebook import tqdm\n",
    "from nltk.sentiment.vader import SentimentIntensityAnalyzer "
   ]
  },
  {
   "cell_type": "code",
   "execution_count": 49,
   "id": "453ba6f4",
   "metadata": {},
   "outputs": [],
   "source": [
    "df =pd.read_csv('./LokSabha_Election_2024_Tweets.csv')"
   ]
  },
  {
   "cell_type": "code",
   "execution_count": 50,
   "id": "a20774c4",
   "metadata": {},
   "outputs": [
    {
     "data": {
      "text/html": [
       "<div>\n",
       "<style scoped>\n",
       "    .dataframe tbody tr th:only-of-type {\n",
       "        vertical-align: middle;\n",
       "    }\n",
       "\n",
       "    .dataframe tbody tr th {\n",
       "        vertical-align: top;\n",
       "    }\n",
       "\n",
       "    .dataframe thead th {\n",
       "        text-align: right;\n",
       "    }\n",
       "</style>\n",
       "<table border=\"1\" class=\"dataframe\">\n",
       "  <thead>\n",
       "    <tr style=\"text-align: right;\">\n",
       "      <th></th>\n",
       "      <th>link</th>\n",
       "      <th>text</th>\n",
       "      <th>date</th>\n",
       "      <th>No_of_likes</th>\n",
       "      <th>No_of_comments</th>\n",
       "    </tr>\n",
       "  </thead>\n",
       "  <tbody>\n",
       "    <tr>\n",
       "      <th>0</th>\n",
       "      <td>https://twitter.com/Politics_2022_/status/1739...</td>\n",
       "      <td>South India 2024 Loksabha Opinion Poll 132 sea...</td>\n",
       "      <td>Dec 25, 2023 · 12:05 PM UTC</td>\n",
       "      <td>324</td>\n",
       "      <td>27</td>\n",
       "    </tr>\n",
       "    <tr>\n",
       "      <th>1</th>\n",
       "      <td>https://twitter.com/LokmatTimes_ngp/status/173...</td>\n",
       "      <td>Veteran actor Nana Patekar says, \"There is no ...</td>\n",
       "      <td>Dec 25, 2023 · 1:00 PM UTC</td>\n",
       "      <td>0</td>\n",
       "      <td>0</td>\n",
       "    </tr>\n",
       "    <tr>\n",
       "      <th>2</th>\n",
       "      <td>https://twitter.com/Politics_2022_/status/1739...</td>\n",
       "      <td>South India BJP 2019 Loksabha Karnataka 25 Tel...</td>\n",
       "      <td>Dec 25, 2023 · 12:21 PM UTC</td>\n",
       "      <td>142</td>\n",
       "      <td>18</td>\n",
       "    </tr>\n",
       "    <tr>\n",
       "      <th>3</th>\n",
       "      <td>https://twitter.com/rohanayak/status/173926994...</td>\n",
       "      <td>Issh baar 357 seats in Loksabha election.</td>\n",
       "      <td>Dec 25, 2023 · 1:00 PM UTC</td>\n",
       "      <td>0</td>\n",
       "      <td>0</td>\n",
       "    </tr>\n",
       "    <tr>\n",
       "      <th>4</th>\n",
       "      <td>https://twitter.com/BellamSwathi/status/173919...</td>\n",
       "      <td>Total number of times MMS won his own lok sabh...</td>\n",
       "      <td>Dec 25, 2023 · 8:19 AM UTC</td>\n",
       "      <td>589</td>\n",
       "      <td>80</td>\n",
       "    </tr>\n",
       "    <tr>\n",
       "      <th>...</th>\n",
       "      <td>...</td>\n",
       "      <td>...</td>\n",
       "      <td>...</td>\n",
       "      <td>...</td>\n",
       "      <td>...</td>\n",
       "    </tr>\n",
       "    <tr>\n",
       "      <th>995</th>\n",
       "      <td>https://twitter.com/navaneethreddym/status/173...</td>\n",
       "      <td>He will make sure Congress puts a dummy candid...</td>\n",
       "      <td>Dec 25, 2023 · 3:03 AM UTC</td>\n",
       "      <td>4</td>\n",
       "      <td>1</td>\n",
       "    </tr>\n",
       "    <tr>\n",
       "      <th>996</th>\n",
       "      <td>https://twitter.com/amitdubey1236/status/17391...</td>\n",
       "      <td>This ll reverse, because TMC is facing huge an...</td>\n",
       "      <td>Dec 25, 2023 · 3:03 AM UTC</td>\n",
       "      <td>1</td>\n",
       "      <td>0</td>\n",
       "    </tr>\n",
       "    <tr>\n",
       "      <th>997</th>\n",
       "      <td>https://twitter.com/hm5566859611444/status/173...</td>\n",
       "      <td>Sabseh kathin yatra I.N.D.I. ALLIANCE meh Akhi...</td>\n",
       "      <td>Dec 25, 2023 · 3:01 AM UTC</td>\n",
       "      <td>0</td>\n",
       "      <td>0</td>\n",
       "    </tr>\n",
       "    <tr>\n",
       "      <th>998</th>\n",
       "      <td>https://twitter.com/imvivekmahaR/status/173911...</td>\n",
       "      <td>Bhai tumhari inhi harkato ki vjh se Pilot saab...</td>\n",
       "      <td>Dec 25, 2023 · 3:00 AM UTC</td>\n",
       "      <td>0</td>\n",
       "      <td>0</td>\n",
       "    </tr>\n",
       "    <tr>\n",
       "      <th>999</th>\n",
       "      <td>https://twitter.com/letsspeak4india/status/173...</td>\n",
       "      <td>Very well said, when a leader couldnt win an e...</td>\n",
       "      <td>Dec 25, 2023 · 2:59 AM UTC</td>\n",
       "      <td>1</td>\n",
       "      <td>0</td>\n",
       "    </tr>\n",
       "  </tbody>\n",
       "</table>\n",
       "<p>1000 rows × 5 columns</p>\n",
       "</div>"
      ],
      "text/plain": [
       "                                                  link  \\\n",
       "0    https://twitter.com/Politics_2022_/status/1739...   \n",
       "1    https://twitter.com/LokmatTimes_ngp/status/173...   \n",
       "2    https://twitter.com/Politics_2022_/status/1739...   \n",
       "3    https://twitter.com/rohanayak/status/173926994...   \n",
       "4    https://twitter.com/BellamSwathi/status/173919...   \n",
       "..                                                 ...   \n",
       "995  https://twitter.com/navaneethreddym/status/173...   \n",
       "996  https://twitter.com/amitdubey1236/status/17391...   \n",
       "997  https://twitter.com/hm5566859611444/status/173...   \n",
       "998  https://twitter.com/imvivekmahaR/status/173911...   \n",
       "999  https://twitter.com/letsspeak4india/status/173...   \n",
       "\n",
       "                                                  text  \\\n",
       "0    South India 2024 Loksabha Opinion Poll 132 sea...   \n",
       "1    Veteran actor Nana Patekar says, \"There is no ...   \n",
       "2    South India BJP 2019 Loksabha Karnataka 25 Tel...   \n",
       "3            Issh baar 357 seats in Loksabha election.   \n",
       "4    Total number of times MMS won his own lok sabh...   \n",
       "..                                                 ...   \n",
       "995  He will make sure Congress puts a dummy candid...   \n",
       "996  This ll reverse, because TMC is facing huge an...   \n",
       "997  Sabseh kathin yatra I.N.D.I. ALLIANCE meh Akhi...   \n",
       "998  Bhai tumhari inhi harkato ki vjh se Pilot saab...   \n",
       "999  Very well said, when a leader couldnt win an e...   \n",
       "\n",
       "                            date  No_of_likes  No_of_comments  \n",
       "0    Dec 25, 2023 · 12:05 PM UTC          324              27  \n",
       "1     Dec 25, 2023 · 1:00 PM UTC            0               0  \n",
       "2    Dec 25, 2023 · 12:21 PM UTC          142              18  \n",
       "3     Dec 25, 2023 · 1:00 PM UTC            0               0  \n",
       "4     Dec 25, 2023 · 8:19 AM UTC          589              80  \n",
       "..                           ...          ...             ...  \n",
       "995   Dec 25, 2023 · 3:03 AM UTC            4               1  \n",
       "996   Dec 25, 2023 · 3:03 AM UTC            1               0  \n",
       "997   Dec 25, 2023 · 3:01 AM UTC            0               0  \n",
       "998   Dec 25, 2023 · 3:00 AM UTC            0               0  \n",
       "999   Dec 25, 2023 · 2:59 AM UTC            1               0  \n",
       "\n",
       "[1000 rows x 5 columns]"
      ]
     },
     "execution_count": 50,
     "metadata": {},
     "output_type": "execute_result"
    }
   ],
   "source": [
    "df"
   ]
  },
  {
   "cell_type": "code",
   "execution_count": 51,
   "id": "4ff5124b",
   "metadata": {},
   "outputs": [
    {
     "name": "stdout",
     "output_type": "stream",
     "text": [
      "<class 'pandas.core.frame.DataFrame'>\n",
      "RangeIndex: 1000 entries, 0 to 999\n",
      "Data columns (total 5 columns):\n",
      " #   Column          Non-Null Count  Dtype \n",
      "---  ------          --------------  ----- \n",
      " 0   link            1000 non-null   object\n",
      " 1   text            995 non-null    object\n",
      " 2   date            1000 non-null   object\n",
      " 3   No_of_likes     1000 non-null   int64 \n",
      " 4   No_of_comments  1000 non-null   int64 \n",
      "dtypes: int64(2), object(3)\n",
      "memory usage: 39.2+ KB\n"
     ]
    }
   ],
   "source": [
    "df.info()"
   ]
  },
  {
   "cell_type": "code",
   "execution_count": 52,
   "id": "e77caaab",
   "metadata": {},
   "outputs": [
    {
     "data": {
      "text/plain": [
       "(1000, 5)"
      ]
     },
     "execution_count": 52,
     "metadata": {},
     "output_type": "execute_result"
    }
   ],
   "source": [
    "df.shape"
   ]
  },
  {
   "cell_type": "code",
   "execution_count": 53,
   "id": "17cc44f1",
   "metadata": {},
   "outputs": [
    {
     "name": "stdout",
     "output_type": "stream",
     "text": [
      "(5, 5)\n",
      "(995, 5)\n"
     ]
    }
   ],
   "source": [
    "null_df = df[df['text'].isnull()]\n",
    "remove_null_df = df['text'].isin(null_df['text'])\n",
    "df.drop(df[remove_null_df].index,inplace=True)\n",
    "print(null_df.shape)\n",
    "print(df.shape)"
   ]
  },
  {
   "cell_type": "code",
   "execution_count": 56,
   "id": "6bf78696",
   "metadata": {},
   "outputs": [],
   "source": [
    "df = df.reset_index().rename(columns={'index': ''})"
   ]
  },
  {
   "cell_type": "code",
   "execution_count": 57,
   "id": "09cb0882",
   "metadata": {},
   "outputs": [
    {
     "data": {
      "text/html": [
       "<div>\n",
       "<style scoped>\n",
       "    .dataframe tbody tr th:only-of-type {\n",
       "        vertical-align: middle;\n",
       "    }\n",
       "\n",
       "    .dataframe tbody tr th {\n",
       "        vertical-align: top;\n",
       "    }\n",
       "\n",
       "    .dataframe thead th {\n",
       "        text-align: right;\n",
       "    }\n",
       "</style>\n",
       "<table border=\"1\" class=\"dataframe\">\n",
       "  <thead>\n",
       "    <tr style=\"text-align: right;\">\n",
       "      <th></th>\n",
       "      <th>index</th>\n",
       "      <th>index</th>\n",
       "      <th>link</th>\n",
       "      <th>text</th>\n",
       "      <th>date</th>\n",
       "      <th>No_of_likes</th>\n",
       "      <th>No_of_comments</th>\n",
       "    </tr>\n",
       "  </thead>\n",
       "  <tbody>\n",
       "    <tr>\n",
       "      <th>0</th>\n",
       "      <td>0</td>\n",
       "      <td>0</td>\n",
       "      <td>https://twitter.com/Politics_2022_/status/1739...</td>\n",
       "      <td>South India 2024 Loksabha Opinion Poll 132 sea...</td>\n",
       "      <td>Dec 25, 2023 · 12:05 PM UTC</td>\n",
       "      <td>324</td>\n",
       "      <td>27</td>\n",
       "    </tr>\n",
       "    <tr>\n",
       "      <th>1</th>\n",
       "      <td>1</td>\n",
       "      <td>1</td>\n",
       "      <td>https://twitter.com/LokmatTimes_ngp/status/173...</td>\n",
       "      <td>Veteran actor Nana Patekar says, \"There is no ...</td>\n",
       "      <td>Dec 25, 2023 · 1:00 PM UTC</td>\n",
       "      <td>0</td>\n",
       "      <td>0</td>\n",
       "    </tr>\n",
       "    <tr>\n",
       "      <th>2</th>\n",
       "      <td>2</td>\n",
       "      <td>2</td>\n",
       "      <td>https://twitter.com/Politics_2022_/status/1739...</td>\n",
       "      <td>South India BJP 2019 Loksabha Karnataka 25 Tel...</td>\n",
       "      <td>Dec 25, 2023 · 12:21 PM UTC</td>\n",
       "      <td>142</td>\n",
       "      <td>18</td>\n",
       "    </tr>\n",
       "    <tr>\n",
       "      <th>3</th>\n",
       "      <td>3</td>\n",
       "      <td>3</td>\n",
       "      <td>https://twitter.com/rohanayak/status/173926994...</td>\n",
       "      <td>Issh baar 357 seats in Loksabha election.</td>\n",
       "      <td>Dec 25, 2023 · 1:00 PM UTC</td>\n",
       "      <td>0</td>\n",
       "      <td>0</td>\n",
       "    </tr>\n",
       "    <tr>\n",
       "      <th>4</th>\n",
       "      <td>4</td>\n",
       "      <td>4</td>\n",
       "      <td>https://twitter.com/BellamSwathi/status/173919...</td>\n",
       "      <td>Total number of times MMS won his own lok sabh...</td>\n",
       "      <td>Dec 25, 2023 · 8:19 AM UTC</td>\n",
       "      <td>589</td>\n",
       "      <td>80</td>\n",
       "    </tr>\n",
       "    <tr>\n",
       "      <th>...</th>\n",
       "      <td>...</td>\n",
       "      <td>...</td>\n",
       "      <td>...</td>\n",
       "      <td>...</td>\n",
       "      <td>...</td>\n",
       "      <td>...</td>\n",
       "      <td>...</td>\n",
       "    </tr>\n",
       "    <tr>\n",
       "      <th>990</th>\n",
       "      <td>990</td>\n",
       "      <td>995</td>\n",
       "      <td>https://twitter.com/navaneethreddym/status/173...</td>\n",
       "      <td>He will make sure Congress puts a dummy candid...</td>\n",
       "      <td>Dec 25, 2023 · 3:03 AM UTC</td>\n",
       "      <td>4</td>\n",
       "      <td>1</td>\n",
       "    </tr>\n",
       "    <tr>\n",
       "      <th>991</th>\n",
       "      <td>991</td>\n",
       "      <td>996</td>\n",
       "      <td>https://twitter.com/amitdubey1236/status/17391...</td>\n",
       "      <td>This ll reverse, because TMC is facing huge an...</td>\n",
       "      <td>Dec 25, 2023 · 3:03 AM UTC</td>\n",
       "      <td>1</td>\n",
       "      <td>0</td>\n",
       "    </tr>\n",
       "    <tr>\n",
       "      <th>992</th>\n",
       "      <td>992</td>\n",
       "      <td>997</td>\n",
       "      <td>https://twitter.com/hm5566859611444/status/173...</td>\n",
       "      <td>Sabseh kathin yatra I.N.D.I. ALLIANCE meh Akhi...</td>\n",
       "      <td>Dec 25, 2023 · 3:01 AM UTC</td>\n",
       "      <td>0</td>\n",
       "      <td>0</td>\n",
       "    </tr>\n",
       "    <tr>\n",
       "      <th>993</th>\n",
       "      <td>993</td>\n",
       "      <td>998</td>\n",
       "      <td>https://twitter.com/imvivekmahaR/status/173911...</td>\n",
       "      <td>Bhai tumhari inhi harkato ki vjh se Pilot saab...</td>\n",
       "      <td>Dec 25, 2023 · 3:00 AM UTC</td>\n",
       "      <td>0</td>\n",
       "      <td>0</td>\n",
       "    </tr>\n",
       "    <tr>\n",
       "      <th>994</th>\n",
       "      <td>994</td>\n",
       "      <td>999</td>\n",
       "      <td>https://twitter.com/letsspeak4india/status/173...</td>\n",
       "      <td>Very well said, when a leader couldnt win an e...</td>\n",
       "      <td>Dec 25, 2023 · 2:59 AM UTC</td>\n",
       "      <td>1</td>\n",
       "      <td>0</td>\n",
       "    </tr>\n",
       "  </tbody>\n",
       "</table>\n",
       "<p>995 rows × 7 columns</p>\n",
       "</div>"
      ],
      "text/plain": [
       "     index  index                                               link  \\\n",
       "0        0      0  https://twitter.com/Politics_2022_/status/1739...   \n",
       "1        1      1  https://twitter.com/LokmatTimes_ngp/status/173...   \n",
       "2        2      2  https://twitter.com/Politics_2022_/status/1739...   \n",
       "3        3      3  https://twitter.com/rohanayak/status/173926994...   \n",
       "4        4      4  https://twitter.com/BellamSwathi/status/173919...   \n",
       "..     ...    ...                                                ...   \n",
       "990    990    995  https://twitter.com/navaneethreddym/status/173...   \n",
       "991    991    996  https://twitter.com/amitdubey1236/status/17391...   \n",
       "992    992    997  https://twitter.com/hm5566859611444/status/173...   \n",
       "993    993    998  https://twitter.com/imvivekmahaR/status/173911...   \n",
       "994    994    999  https://twitter.com/letsspeak4india/status/173...   \n",
       "\n",
       "                                                  text  \\\n",
       "0    South India 2024 Loksabha Opinion Poll 132 sea...   \n",
       "1    Veteran actor Nana Patekar says, \"There is no ...   \n",
       "2    South India BJP 2019 Loksabha Karnataka 25 Tel...   \n",
       "3            Issh baar 357 seats in Loksabha election.   \n",
       "4    Total number of times MMS won his own lok sabh...   \n",
       "..                                                 ...   \n",
       "990  He will make sure Congress puts a dummy candid...   \n",
       "991  This ll reverse, because TMC is facing huge an...   \n",
       "992  Sabseh kathin yatra I.N.D.I. ALLIANCE meh Akhi...   \n",
       "993  Bhai tumhari inhi harkato ki vjh se Pilot saab...   \n",
       "994  Very well said, when a leader couldnt win an e...   \n",
       "\n",
       "                            date  No_of_likes  No_of_comments  \n",
       "0    Dec 25, 2023 · 12:05 PM UTC          324              27  \n",
       "1     Dec 25, 2023 · 1:00 PM UTC            0               0  \n",
       "2    Dec 25, 2023 · 12:21 PM UTC          142              18  \n",
       "3     Dec 25, 2023 · 1:00 PM UTC            0               0  \n",
       "4     Dec 25, 2023 · 8:19 AM UTC          589              80  \n",
       "..                           ...          ...             ...  \n",
       "990   Dec 25, 2023 · 3:03 AM UTC            4               1  \n",
       "991   Dec 25, 2023 · 3:03 AM UTC            1               0  \n",
       "992   Dec 25, 2023 · 3:01 AM UTC            0               0  \n",
       "993   Dec 25, 2023 · 3:00 AM UTC            0               0  \n",
       "994   Dec 25, 2023 · 2:59 AM UTC            1               0  \n",
       "\n",
       "[995 rows x 7 columns]"
      ]
     },
     "execution_count": 57,
     "metadata": {},
     "output_type": "execute_result"
    }
   ],
   "source": [
    "df"
   ]
  },
  {
   "cell_type": "markdown",
   "id": "ac67b2d0",
   "metadata": {},
   "source": [
    "# Polarity Of Elections 2024"
   ]
  },
  {
   "cell_type": "markdown",
   "id": "01b49699",
   "metadata": {},
   "source": [
    "### VADER"
   ]
  },
  {
   "cell_type": "code",
   "execution_count": 39,
   "id": "360a79c4",
   "metadata": {},
   "outputs": [],
   "source": [
    "sia = SentimentIntensityAnalyzer()"
   ]
  },
  {
   "cell_type": "code",
   "execution_count": 40,
   "id": "dde9df72",
   "metadata": {},
   "outputs": [
    {
     "data": {
      "text/plain": [
       "{'neg': 0.0, 'neu': 0.318, 'pos': 0.682, 'compound': 0.6468}"
      ]
     },
     "execution_count": 40,
     "metadata": {},
     "output_type": "execute_result"
    }
   ],
   "source": [
    "sia.polarity_scores('I am so happy!')"
   ]
  },
  {
   "cell_type": "code",
   "execution_count": 41,
   "id": "ab383518",
   "metadata": {},
   "outputs": [
    {
     "data": {
      "text/plain": [
       "{'neg': 0.451, 'neu': 0.549, 'pos': 0.0, 'compound': -0.6249}"
      ]
     },
     "execution_count": 41,
     "metadata": {},
     "output_type": "execute_result"
    }
   ],
   "source": [
    "sia.polarity_scores('This is the worst thing ever.')"
   ]
  },
  {
   "cell_type": "markdown",
   "id": "74884fe0",
   "metadata": {},
   "source": [
    "# Run the polarity score on the entire modi dataset"
   ]
  },
  {
   "cell_type": "code",
   "execution_count": null,
   "id": "41c3f389",
   "metadata": {},
   "outputs": [],
   "source": [
    "res = {}\n",
    "for i, row in tqdm(modi_df.iterrows(), total=len(modi_df)):\n",
    "    text = row['Tweet']\n",
    "    myid = row['Unnamed: 0']\n",
    "    res[myid] = sia.polarity_scores(text)"
   ]
  }
 ],
 "metadata": {
  "kernelspec": {
   "display_name": "Python 3 (ipykernel)",
   "language": "python",
   "name": "python3"
  },
  "language_info": {
   "codemirror_mode": {
    "name": "ipython",
    "version": 3
   },
   "file_extension": ".py",
   "mimetype": "text/x-python",
   "name": "python",
   "nbconvert_exporter": "python",
   "pygments_lexer": "ipython3",
   "version": "3.9.13"
  }
 },
 "nbformat": 4,
 "nbformat_minor": 5
}
