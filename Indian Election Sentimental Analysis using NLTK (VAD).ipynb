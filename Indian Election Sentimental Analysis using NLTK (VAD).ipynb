{
 "cells": [
  {
   "cell_type": "code",
   "execution_count": 45,
   "id": "f61a3f96",
   "metadata": {},
   "outputs": [],
   "source": [
    "import nltk\n",
    "import pandas as pd\n",
    "import numpy as np\n",
    "import matplotlib.pyplot as plt\n",
    "from collections import Counter\n",
    "from nltk.tokenize import word_tokenize\n",
    "from nltk.corpus import stopwords\n",
    "from nltk.sentiment.vader import SentimentIntensityAnalyzer "
   ]
  },
  {
   "cell_type": "markdown",
   "id": "a76535fc",
   "metadata": {},
   "source": [
    "## modi Review Dataset"
   ]
  },
  {
   "cell_type": "code",
   "execution_count": 46,
   "id": "921cf167",
   "metadata": {},
   "outputs": [],
   "source": [
    "modi_df =pd.read_csv('./modi_reviews.csv')"
   ]
  },
  {
   "cell_type": "code",
   "execution_count": 47,
   "id": "7205cbe9",
   "metadata": {},
   "outputs": [
    {
     "data": {
      "text/plain": [
       "(25688, 3)"
      ]
     },
     "execution_count": 47,
     "metadata": {},
     "output_type": "execute_result"
    }
   ],
   "source": [
    "modi_df.shape"
   ]
  },
  {
   "cell_type": "code",
   "execution_count": 48,
   "id": "59417d0b",
   "metadata": {},
   "outputs": [
    {
     "name": "stdout",
     "output_type": "stream",
     "text": [
      "<class 'pandas.core.frame.DataFrame'>\n",
      "RangeIndex: 25688 entries, 0 to 25687\n",
      "Data columns (total 3 columns):\n",
      " #   Column      Non-Null Count  Dtype \n",
      "---  ------      --------------  ----- \n",
      " 0   Unnamed: 0  25688 non-null  int64 \n",
      " 1   User        25683 non-null  object\n",
      " 2   Tweet       25683 non-null  object\n",
      "dtypes: int64(1), object(2)\n",
      "memory usage: 602.2+ KB\n"
     ]
    }
   ],
   "source": [
    "modi_df.info()"
   ]
  },
  {
   "cell_type": "code",
   "execution_count": 49,
   "id": "01a8988a",
   "metadata": {},
   "outputs": [
    {
     "data": {
      "text/html": [
       "<div>\n",
       "<style scoped>\n",
       "    .dataframe tbody tr th:only-of-type {\n",
       "        vertical-align: middle;\n",
       "    }\n",
       "\n",
       "    .dataframe tbody tr th {\n",
       "        vertical-align: top;\n",
       "    }\n",
       "\n",
       "    .dataframe thead th {\n",
       "        text-align: right;\n",
       "    }\n",
       "</style>\n",
       "<table border=\"1\" class=\"dataframe\">\n",
       "  <thead>\n",
       "    <tr style=\"text-align: right;\">\n",
       "      <th></th>\n",
       "      <th>Unnamed: 0</th>\n",
       "      <th>User</th>\n",
       "      <th>Tweet</th>\n",
       "    </tr>\n",
       "  </thead>\n",
       "  <tbody>\n",
       "    <tr>\n",
       "      <th>0</th>\n",
       "      <td>0</td>\n",
       "      <td>advosushildixit</td>\n",
       "      <td>@anjanaomkashyap I am seeing you as future #bj...</td>\n",
       "    </tr>\n",
       "    <tr>\n",
       "      <th>1</th>\n",
       "      <td>1</td>\n",
       "      <td>jiaeur</td>\n",
       "      <td>#LokSabhaElections2019 \\n23rd May 2019 will re...</td>\n",
       "    </tr>\n",
       "    <tr>\n",
       "      <th>2</th>\n",
       "      <td>2</td>\n",
       "      <td>PVenkatGandhi</td>\n",
       "      <td>#LokSabhaElections2019 \\n23rd May 2019 will re...</td>\n",
       "    </tr>\n",
       "    <tr>\n",
       "      <th>3</th>\n",
       "      <td>3</td>\n",
       "      <td>TheNirbhay1</td>\n",
       "      <td>PM Modi creates a new record of being the only...</td>\n",
       "    </tr>\n",
       "    <tr>\n",
       "      <th>4</th>\n",
       "      <td>4</td>\n",
       "      <td>ShakeChilli</td>\n",
       "      <td>@abhijitmajumder Appointment of Successor! \\n\\...</td>\n",
       "    </tr>\n",
       "  </tbody>\n",
       "</table>\n",
       "</div>"
      ],
      "text/plain": [
       "   Unnamed: 0             User  \\\n",
       "0           0  advosushildixit   \n",
       "1           1           jiaeur   \n",
       "2           2    PVenkatGandhi   \n",
       "3           3      TheNirbhay1   \n",
       "4           4      ShakeChilli   \n",
       "\n",
       "                                               Tweet  \n",
       "0  @anjanaomkashyap I am seeing you as future #bj...  \n",
       "1  #LokSabhaElections2019 \\n23rd May 2019 will re...  \n",
       "2  #LokSabhaElections2019 \\n23rd May 2019 will re...  \n",
       "3  PM Modi creates a new record of being the only...  \n",
       "4  @abhijitmajumder Appointment of Successor! \\n\\...  "
      ]
     },
     "execution_count": 49,
     "metadata": {},
     "output_type": "execute_result"
    }
   ],
   "source": [
    "modi_df.head()"
   ]
  },
  {
   "cell_type": "markdown",
   "id": "474b4004",
   "metadata": {},
   "source": [
    "## Rahul Dataset"
   ]
  },
  {
   "cell_type": "code",
   "execution_count": 50,
   "id": "30b4eb77",
   "metadata": {},
   "outputs": [],
   "source": [
    "rahul_df = pd.read_csv('./rahul_reviews.csv')"
   ]
  },
  {
   "cell_type": "code",
   "execution_count": 51,
   "id": "e47df390",
   "metadata": {},
   "outputs": [
    {
     "data": {
      "text/plain": [
       "(14261, 3)"
      ]
     },
     "execution_count": 51,
     "metadata": {},
     "output_type": "execute_result"
    }
   ],
   "source": [
    "rahul_df.shape"
   ]
  },
  {
   "cell_type": "code",
   "execution_count": 52,
   "id": "9cf7e954",
   "metadata": {},
   "outputs": [
    {
     "data": {
      "text/plain": [
       "<bound method DataFrame.info of        Unnamed: 0             User  \\\n",
       "0               0     Sunnysweet16   \n",
       "1               1    drnitinchaube   \n",
       "2               2        mrvivek07   \n",
       "3               3    JosephPravinP   \n",
       "4               4  VandanaMegastar   \n",
       "...           ...              ...   \n",
       "14256       14256         SunjayJK   \n",
       "14257       14257         SunjayJK   \n",
       "14258       14258       RAMANKAIRA   \n",
       "14259       14259       RAMANKAIRA   \n",
       "14260       14260       RAMANKAIRA   \n",
       "\n",
       "                                                   Tweet  \n",
       "0      Wonder why no academic or journalist asks INC ...  \n",
       "1      Congrats for the change #australiavotes2019 an...  \n",
       "2      Peopel Say “Govt Ne 70 Years Kya kiya”.\\nUnse ...  \n",
       "3      @ajaymaken @RahulGandhi And as a final touch, ...  \n",
       "4      #LokSabhaElections2019 Anyone not having mass ...  \n",
       "...                                                  ...  \n",
       "14256  @quizzicalguy In this #LokSabhaElections2019, ...  \n",
       "14257  @AnumaVidisha @RahulGandhi @ArvindKejriwal whe...  \n",
       "14258  @sherryontopp Early morning #political move af...  \n",
       "14259  @mayankgandhi04 @mallesh_2004 Early morning #p...  \n",
       "14260  @DrKumarVishwas Early morning #political move ...  \n",
       "\n",
       "[14261 rows x 3 columns]>"
      ]
     },
     "execution_count": 52,
     "metadata": {},
     "output_type": "execute_result"
    }
   ],
   "source": [
    "rahul_df.info"
   ]
  },
  {
   "cell_type": "code",
   "execution_count": 53,
   "id": "0a4dc308",
   "metadata": {},
   "outputs": [
    {
     "data": {
      "text/html": [
       "<div>\n",
       "<style scoped>\n",
       "    .dataframe tbody tr th:only-of-type {\n",
       "        vertical-align: middle;\n",
       "    }\n",
       "\n",
       "    .dataframe tbody tr th {\n",
       "        vertical-align: top;\n",
       "    }\n",
       "\n",
       "    .dataframe thead th {\n",
       "        text-align: right;\n",
       "    }\n",
       "</style>\n",
       "<table border=\"1\" class=\"dataframe\">\n",
       "  <thead>\n",
       "    <tr style=\"text-align: right;\">\n",
       "      <th></th>\n",
       "      <th>Unnamed: 0</th>\n",
       "      <th>User</th>\n",
       "      <th>Tweet</th>\n",
       "    </tr>\n",
       "  </thead>\n",
       "  <tbody>\n",
       "    <tr>\n",
       "      <th>0</th>\n",
       "      <td>0</td>\n",
       "      <td>Sunnysweet16</td>\n",
       "      <td>Wonder why no academic or journalist asks INC ...</td>\n",
       "    </tr>\n",
       "    <tr>\n",
       "      <th>1</th>\n",
       "      <td>1</td>\n",
       "      <td>drnitinchaube</td>\n",
       "      <td>Congrats for the change #australiavotes2019 an...</td>\n",
       "    </tr>\n",
       "    <tr>\n",
       "      <th>2</th>\n",
       "      <td>2</td>\n",
       "      <td>mrvivek07</td>\n",
       "      <td>Peopel Say “Govt Ne 70 Years Kya kiya”.\\nUnse ...</td>\n",
       "    </tr>\n",
       "    <tr>\n",
       "      <th>3</th>\n",
       "      <td>3</td>\n",
       "      <td>JosephPravinP</td>\n",
       "      <td>@ajaymaken @RahulGandhi And as a final touch, ...</td>\n",
       "    </tr>\n",
       "    <tr>\n",
       "      <th>4</th>\n",
       "      <td>4</td>\n",
       "      <td>VandanaMegastar</td>\n",
       "      <td>#LokSabhaElections2019 Anyone not having mass ...</td>\n",
       "    </tr>\n",
       "  </tbody>\n",
       "</table>\n",
       "</div>"
      ],
      "text/plain": [
       "   Unnamed: 0             User  \\\n",
       "0           0     Sunnysweet16   \n",
       "1           1    drnitinchaube   \n",
       "2           2        mrvivek07   \n",
       "3           3    JosephPravinP   \n",
       "4           4  VandanaMegastar   \n",
       "\n",
       "                                               Tweet  \n",
       "0  Wonder why no academic or journalist asks INC ...  \n",
       "1  Congrats for the change #australiavotes2019 an...  \n",
       "2  Peopel Say “Govt Ne 70 Years Kya kiya”.\\nUnse ...  \n",
       "3  @ajaymaken @RahulGandhi And as a final touch, ...  \n",
       "4  #LokSabhaElections2019 Anyone not having mass ...  "
      ]
     },
     "execution_count": 53,
     "metadata": {},
     "output_type": "execute_result"
    }
   ],
   "source": [
    "rahul_df.head()"
   ]
  },
  {
   "cell_type": "markdown",
   "id": "539597cf",
   "metadata": {},
   "source": [
    "### change the data type of tweet from object to str"
   ]
  },
  {
   "cell_type": "code",
   "execution_count": 54,
   "id": "121eb787",
   "metadata": {},
   "outputs": [
    {
     "name": "stdout",
     "output_type": "stream",
     "text": [
      "<class 'pandas.core.frame.DataFrame'>\n",
      "RangeIndex: 25688 entries, 0 to 25687\n",
      "Data columns (total 3 columns):\n",
      " #   Column      Non-Null Count  Dtype \n",
      "---  ------      --------------  ----- \n",
      " 0   Unnamed: 0  25688 non-null  int64 \n",
      " 1   User        25683 non-null  object\n",
      " 2   Tweet       25688 non-null  object\n",
      "dtypes: int64(1), object(2)\n",
      "memory usage: 602.2+ KB\n"
     ]
    }
   ],
   "source": [
    "modi_df['Tweet'] = modi_df['Tweet'].astype(str)\n",
    "modi_df.info()"
   ]
  },
  {
   "cell_type": "code",
   "execution_count": 55,
   "id": "a185464d",
   "metadata": {},
   "outputs": [
    {
     "name": "stdout",
     "output_type": "stream",
     "text": [
      "<class 'pandas.core.frame.DataFrame'>\n",
      "RangeIndex: 14261 entries, 0 to 14260\n",
      "Data columns (total 3 columns):\n",
      " #   Column      Non-Null Count  Dtype \n",
      "---  ------      --------------  ----- \n",
      " 0   Unnamed: 0  14261 non-null  int64 \n",
      " 1   User        14261 non-null  object\n",
      " 2   Tweet       14261 non-null  object\n",
      "dtypes: int64(1), object(2)\n",
      "memory usage: 334.4+ KB\n"
     ]
    }
   ],
   "source": [
    "rahul_df['Tweet'] = rahul_df['Tweet'].astype(str)\n",
    "rahul_df.info()"
   ]
  },
  {
   "cell_type": "markdown",
   "id": "683cfd47",
   "metadata": {},
   "source": [
    "### Lower Case the Tweet"
   ]
  },
  {
   "cell_type": "code",
   "execution_count": 56,
   "id": "d44ff4ff",
   "metadata": {},
   "outputs": [
    {
     "data": {
      "text/html": [
       "<div>\n",
       "<style scoped>\n",
       "    .dataframe tbody tr th:only-of-type {\n",
       "        vertical-align: middle;\n",
       "    }\n",
       "\n",
       "    .dataframe tbody tr th {\n",
       "        vertical-align: top;\n",
       "    }\n",
       "\n",
       "    .dataframe thead th {\n",
       "        text-align: right;\n",
       "    }\n",
       "</style>\n",
       "<table border=\"1\" class=\"dataframe\">\n",
       "  <thead>\n",
       "    <tr style=\"text-align: right;\">\n",
       "      <th></th>\n",
       "      <th>Unnamed: 0</th>\n",
       "      <th>User</th>\n",
       "      <th>Tweet</th>\n",
       "    </tr>\n",
       "  </thead>\n",
       "  <tbody>\n",
       "    <tr>\n",
       "      <th>0</th>\n",
       "      <td>0</td>\n",
       "      <td>advosushildixit</td>\n",
       "      <td>@anjanaomkashyap i am seeing you as future #bj...</td>\n",
       "    </tr>\n",
       "    <tr>\n",
       "      <th>1</th>\n",
       "      <td>1</td>\n",
       "      <td>jiaeur</td>\n",
       "      <td>#loksabhaelections2019 \\n23rd may 2019 will re...</td>\n",
       "    </tr>\n",
       "    <tr>\n",
       "      <th>2</th>\n",
       "      <td>2</td>\n",
       "      <td>PVenkatGandhi</td>\n",
       "      <td>#loksabhaelections2019 \\n23rd may 2019 will re...</td>\n",
       "    </tr>\n",
       "    <tr>\n",
       "      <th>3</th>\n",
       "      <td>3</td>\n",
       "      <td>TheNirbhay1</td>\n",
       "      <td>pm modi creates a new record of being the only...</td>\n",
       "    </tr>\n",
       "    <tr>\n",
       "      <th>4</th>\n",
       "      <td>4</td>\n",
       "      <td>ShakeChilli</td>\n",
       "      <td>@abhijitmajumder appointment of successor! \\n\\...</td>\n",
       "    </tr>\n",
       "  </tbody>\n",
       "</table>\n",
       "</div>"
      ],
      "text/plain": [
       "   Unnamed: 0             User  \\\n",
       "0           0  advosushildixit   \n",
       "1           1           jiaeur   \n",
       "2           2    PVenkatGandhi   \n",
       "3           3      TheNirbhay1   \n",
       "4           4      ShakeChilli   \n",
       "\n",
       "                                               Tweet  \n",
       "0  @anjanaomkashyap i am seeing you as future #bj...  \n",
       "1  #loksabhaelections2019 \\n23rd may 2019 will re...  \n",
       "2  #loksabhaelections2019 \\n23rd may 2019 will re...  \n",
       "3  pm modi creates a new record of being the only...  \n",
       "4  @abhijitmajumder appointment of successor! \\n\\...  "
      ]
     },
     "execution_count": 56,
     "metadata": {},
     "output_type": "execute_result"
    }
   ],
   "source": [
    "modi_df['Tweet'] = modi_df['Tweet'].str.lower()\n",
    "modi_df.head()"
   ]
  },
  {
   "cell_type": "code",
   "execution_count": 57,
   "id": "2e1d90df",
   "metadata": {},
   "outputs": [
    {
     "data": {
      "text/html": [
       "<div>\n",
       "<style scoped>\n",
       "    .dataframe tbody tr th:only-of-type {\n",
       "        vertical-align: middle;\n",
       "    }\n",
       "\n",
       "    .dataframe tbody tr th {\n",
       "        vertical-align: top;\n",
       "    }\n",
       "\n",
       "    .dataframe thead th {\n",
       "        text-align: right;\n",
       "    }\n",
       "</style>\n",
       "<table border=\"1\" class=\"dataframe\">\n",
       "  <thead>\n",
       "    <tr style=\"text-align: right;\">\n",
       "      <th></th>\n",
       "      <th>Unnamed: 0</th>\n",
       "      <th>User</th>\n",
       "      <th>Tweet</th>\n",
       "    </tr>\n",
       "  </thead>\n",
       "  <tbody>\n",
       "    <tr>\n",
       "      <th>0</th>\n",
       "      <td>0</td>\n",
       "      <td>Sunnysweet16</td>\n",
       "      <td>wonder why no academic or journalist asks inc ...</td>\n",
       "    </tr>\n",
       "    <tr>\n",
       "      <th>1</th>\n",
       "      <td>1</td>\n",
       "      <td>drnitinchaube</td>\n",
       "      <td>congrats for the change #australiavotes2019 an...</td>\n",
       "    </tr>\n",
       "    <tr>\n",
       "      <th>2</th>\n",
       "      <td>2</td>\n",
       "      <td>mrvivek07</td>\n",
       "      <td>peopel say “govt ne 70 years kya kiya”.\\nunse ...</td>\n",
       "    </tr>\n",
       "    <tr>\n",
       "      <th>3</th>\n",
       "      <td>3</td>\n",
       "      <td>JosephPravinP</td>\n",
       "      <td>@ajaymaken @rahulgandhi and as a final touch, ...</td>\n",
       "    </tr>\n",
       "    <tr>\n",
       "      <th>4</th>\n",
       "      <td>4</td>\n",
       "      <td>VandanaMegastar</td>\n",
       "      <td>#loksabhaelections2019 anyone not having mass ...</td>\n",
       "    </tr>\n",
       "  </tbody>\n",
       "</table>\n",
       "</div>"
      ],
      "text/plain": [
       "   Unnamed: 0             User  \\\n",
       "0           0     Sunnysweet16   \n",
       "1           1    drnitinchaube   \n",
       "2           2        mrvivek07   \n",
       "3           3    JosephPravinP   \n",
       "4           4  VandanaMegastar   \n",
       "\n",
       "                                               Tweet  \n",
       "0  wonder why no academic or journalist asks inc ...  \n",
       "1  congrats for the change #australiavotes2019 an...  \n",
       "2  peopel say “govt ne 70 years kya kiya”.\\nunse ...  \n",
       "3  @ajaymaken @rahulgandhi and as a final touch, ...  \n",
       "4  #loksabhaelections2019 anyone not having mass ...  "
      ]
     },
     "execution_count": 57,
     "metadata": {},
     "output_type": "execute_result"
    }
   ],
   "source": [
    "rahul_df['Tweet'] = rahul_df['Tweet'].str.lower()\n",
    "rahul_df.head()"
   ]
  },
  {
   "cell_type": "markdown",
   "id": "7e057a7c",
   "metadata": {},
   "source": [
    "### Remove Punctutaion from Tweet"
   ]
  },
  {
   "cell_type": "code",
   "execution_count": 58,
   "id": "cbb9c5f6",
   "metadata": {},
   "outputs": [
    {
     "name": "stdout",
     "output_type": "stream",
     "text": [
      "!\"#$%&'()*+,-./:;<=>?@[\\]^_`{|}~\n"
     ]
    }
   ],
   "source": [
    "import string \n",
    "print(string.punctuation)"
   ]
  },
  {
   "cell_type": "code",
   "execution_count": 59,
   "id": "78ac2fc8",
   "metadata": {},
   "outputs": [
    {
     "data": {
      "text/html": [
       "<div>\n",
       "<style scoped>\n",
       "    .dataframe tbody tr th:only-of-type {\n",
       "        vertical-align: middle;\n",
       "    }\n",
       "\n",
       "    .dataframe tbody tr th {\n",
       "        vertical-align: top;\n",
       "    }\n",
       "\n",
       "    .dataframe thead th {\n",
       "        text-align: right;\n",
       "    }\n",
       "</style>\n",
       "<table border=\"1\" class=\"dataframe\">\n",
       "  <thead>\n",
       "    <tr style=\"text-align: right;\">\n",
       "      <th></th>\n",
       "      <th>Unnamed: 0</th>\n",
       "      <th>User</th>\n",
       "      <th>Tweet</th>\n",
       "    </tr>\n",
       "  </thead>\n",
       "  <tbody>\n",
       "    <tr>\n",
       "      <th>0</th>\n",
       "      <td>0</td>\n",
       "      <td>advosushildixit</td>\n",
       "      <td>anjanaomkashyap i am seeing you as future bjp ...</td>\n",
       "    </tr>\n",
       "    <tr>\n",
       "      <th>1</th>\n",
       "      <td>1</td>\n",
       "      <td>jiaeur</td>\n",
       "      <td>loksabhaelections2019 \\n23rd may 2019 will rev...</td>\n",
       "    </tr>\n",
       "    <tr>\n",
       "      <th>2</th>\n",
       "      <td>2</td>\n",
       "      <td>PVenkatGandhi</td>\n",
       "      <td>loksabhaelections2019 \\n23rd may 2019 will rev...</td>\n",
       "    </tr>\n",
       "    <tr>\n",
       "      <th>3</th>\n",
       "      <td>3</td>\n",
       "      <td>TheNirbhay1</td>\n",
       "      <td>pm modi creates a new record of being the only...</td>\n",
       "    </tr>\n",
       "    <tr>\n",
       "      <th>4</th>\n",
       "      <td>4</td>\n",
       "      <td>ShakeChilli</td>\n",
       "      <td>abhijitmajumder appointment of successor \\n\\ng...</td>\n",
       "    </tr>\n",
       "  </tbody>\n",
       "</table>\n",
       "</div>"
      ],
      "text/plain": [
       "   Unnamed: 0             User  \\\n",
       "0           0  advosushildixit   \n",
       "1           1           jiaeur   \n",
       "2           2    PVenkatGandhi   \n",
       "3           3      TheNirbhay1   \n",
       "4           4      ShakeChilli   \n",
       "\n",
       "                                               Tweet  \n",
       "0  anjanaomkashyap i am seeing you as future bjp ...  \n",
       "1  loksabhaelections2019 \\n23rd may 2019 will rev...  \n",
       "2  loksabhaelections2019 \\n23rd may 2019 will rev...  \n",
       "3  pm modi creates a new record of being the only...  \n",
       "4  abhijitmajumder appointment of successor \\n\\ng...  "
      ]
     },
     "execution_count": 59,
     "metadata": {},
     "output_type": "execute_result"
    }
   ],
   "source": [
    "#  cleaned the string woth punctions (Three Parameter)\n",
    "# str1 = specifies the list of charcater that needed to be reaplaced\n",
    "# str2 = specifies the list of charcater with which  the character needed to be reaplaced\n",
    "# str1 = specifies the list of charcater that needed to be deleted\n",
    "\n",
    "modi_df['Tweet'] = modi_df['Tweet'].apply(lambda x: x.translate(str.maketrans('','',string.punctuation)))\n",
    "modi_df.head()"
   ]
  },
  {
   "cell_type": "code",
   "execution_count": 60,
   "id": "62aa1095",
   "metadata": {},
   "outputs": [
    {
     "data": {
      "text/html": [
       "<div>\n",
       "<style scoped>\n",
       "    .dataframe tbody tr th:only-of-type {\n",
       "        vertical-align: middle;\n",
       "    }\n",
       "\n",
       "    .dataframe tbody tr th {\n",
       "        vertical-align: top;\n",
       "    }\n",
       "\n",
       "    .dataframe thead th {\n",
       "        text-align: right;\n",
       "    }\n",
       "</style>\n",
       "<table border=\"1\" class=\"dataframe\">\n",
       "  <thead>\n",
       "    <tr style=\"text-align: right;\">\n",
       "      <th></th>\n",
       "      <th>Unnamed: 0</th>\n",
       "      <th>User</th>\n",
       "      <th>Tweet</th>\n",
       "    </tr>\n",
       "  </thead>\n",
       "  <tbody>\n",
       "    <tr>\n",
       "      <th>0</th>\n",
       "      <td>0</td>\n",
       "      <td>Sunnysweet16</td>\n",
       "      <td>wonder why no academic or journalist asks inc ...</td>\n",
       "    </tr>\n",
       "    <tr>\n",
       "      <th>1</th>\n",
       "      <td>1</td>\n",
       "      <td>drnitinchaube</td>\n",
       "      <td>congrats for the change australiavotes2019 and...</td>\n",
       "    </tr>\n",
       "    <tr>\n",
       "      <th>2</th>\n",
       "      <td>2</td>\n",
       "      <td>mrvivek07</td>\n",
       "      <td>peopel say “govt ne 70 years kya kiya”\\nunse p...</td>\n",
       "    </tr>\n",
       "    <tr>\n",
       "      <th>3</th>\n",
       "      <td>3</td>\n",
       "      <td>JosephPravinP</td>\n",
       "      <td>ajaymaken rahulgandhi and as a final touch mod...</td>\n",
       "    </tr>\n",
       "    <tr>\n",
       "      <th>4</th>\n",
       "      <td>4</td>\n",
       "      <td>VandanaMegastar</td>\n",
       "      <td>loksabhaelections2019 anyone not having mass b...</td>\n",
       "    </tr>\n",
       "  </tbody>\n",
       "</table>\n",
       "</div>"
      ],
      "text/plain": [
       "   Unnamed: 0             User  \\\n",
       "0           0     Sunnysweet16   \n",
       "1           1    drnitinchaube   \n",
       "2           2        mrvivek07   \n",
       "3           3    JosephPravinP   \n",
       "4           4  VandanaMegastar   \n",
       "\n",
       "                                               Tweet  \n",
       "0  wonder why no academic or journalist asks inc ...  \n",
       "1  congrats for the change australiavotes2019 and...  \n",
       "2  peopel say “govt ne 70 years kya kiya”\\nunse p...  \n",
       "3  ajaymaken rahulgandhi and as a final touch mod...  \n",
       "4  loksabhaelections2019 anyone not having mass b...  "
      ]
     },
     "execution_count": 60,
     "metadata": {},
     "output_type": "execute_result"
    }
   ],
   "source": [
    "rahul_df['Tweet'] = rahul_df['Tweet'].apply(lambda x: x.translate(str.maketrans('','',string.punctuation)))\n",
    "rahul_df.head()"
   ]
  },
  {
   "cell_type": "markdown",
   "id": "0f59cbfa",
   "metadata": {},
   "source": [
    "### tokenising Tweet"
   ]
  },
  {
   "cell_type": "code",
   "execution_count": 61,
   "id": "29b84424",
   "metadata": {},
   "outputs": [
    {
     "data": {
      "text/html": [
       "<div>\n",
       "<style scoped>\n",
       "    .dataframe tbody tr th:only-of-type {\n",
       "        vertical-align: middle;\n",
       "    }\n",
       "\n",
       "    .dataframe tbody tr th {\n",
       "        vertical-align: top;\n",
       "    }\n",
       "\n",
       "    .dataframe thead th {\n",
       "        text-align: right;\n",
       "    }\n",
       "</style>\n",
       "<table border=\"1\" class=\"dataframe\">\n",
       "  <thead>\n",
       "    <tr style=\"text-align: right;\">\n",
       "      <th></th>\n",
       "      <th>Unnamed: 0</th>\n",
       "      <th>User</th>\n",
       "      <th>Tweet</th>\n",
       "      <th>Tweet_Tokens</th>\n",
       "    </tr>\n",
       "  </thead>\n",
       "  <tbody>\n",
       "    <tr>\n",
       "      <th>0</th>\n",
       "      <td>0</td>\n",
       "      <td>advosushildixit</td>\n",
       "      <td>anjanaomkashyap i am seeing you as future bjp ...</td>\n",
       "      <td>[anjanaomkashyap, i, am, seeing, you, as, futu...</td>\n",
       "    </tr>\n",
       "    <tr>\n",
       "      <th>1</th>\n",
       "      <td>1</td>\n",
       "      <td>jiaeur</td>\n",
       "      <td>loksabhaelections2019 \\n23rd may 2019 will rev...</td>\n",
       "      <td>[loksabhaelections2019, 23rd, may, 2019, will,...</td>\n",
       "    </tr>\n",
       "    <tr>\n",
       "      <th>2</th>\n",
       "      <td>2</td>\n",
       "      <td>PVenkatGandhi</td>\n",
       "      <td>loksabhaelections2019 \\n23rd may 2019 will rev...</td>\n",
       "      <td>[loksabhaelections2019, 23rd, may, 2019, will,...</td>\n",
       "    </tr>\n",
       "    <tr>\n",
       "      <th>3</th>\n",
       "      <td>3</td>\n",
       "      <td>TheNirbhay1</td>\n",
       "      <td>pm modi creates a new record of being the only...</td>\n",
       "      <td>[pm, modi, creates, a, new, record, of, being,...</td>\n",
       "    </tr>\n",
       "    <tr>\n",
       "      <th>4</th>\n",
       "      <td>4</td>\n",
       "      <td>ShakeChilli</td>\n",
       "      <td>abhijitmajumder appointment of successor \\n\\ng...</td>\n",
       "      <td>[abhijitmajumder, appointment, of, successor, ...</td>\n",
       "    </tr>\n",
       "  </tbody>\n",
       "</table>\n",
       "</div>"
      ],
      "text/plain": [
       "   Unnamed: 0             User  \\\n",
       "0           0  advosushildixit   \n",
       "1           1           jiaeur   \n",
       "2           2    PVenkatGandhi   \n",
       "3           3      TheNirbhay1   \n",
       "4           4      ShakeChilli   \n",
       "\n",
       "                                               Tweet  \\\n",
       "0  anjanaomkashyap i am seeing you as future bjp ...   \n",
       "1  loksabhaelections2019 \\n23rd may 2019 will rev...   \n",
       "2  loksabhaelections2019 \\n23rd may 2019 will rev...   \n",
       "3  pm modi creates a new record of being the only...   \n",
       "4  abhijitmajumder appointment of successor \\n\\ng...   \n",
       "\n",
       "                                        Tweet_Tokens  \n",
       "0  [anjanaomkashyap, i, am, seeing, you, as, futu...  \n",
       "1  [loksabhaelections2019, 23rd, may, 2019, will,...  \n",
       "2  [loksabhaelections2019, 23rd, may, 2019, will,...  \n",
       "3  [pm, modi, creates, a, new, record, of, being,...  \n",
       "4  [abhijitmajumder, appointment, of, successor, ...  "
      ]
     },
     "execution_count": 61,
     "metadata": {},
     "output_type": "execute_result"
    }
   ],
   "source": [
    "def textToToken(text):\n",
    "    return nltk.word_tokenize(text);\n",
    "\n",
    "\n",
    "modi_df['Tweet_Tokens'] = modi_df['Tweet'].apply(textToToken)\n",
    "modi_df.head()"
   ]
  },
  {
   "cell_type": "code",
   "execution_count": 62,
   "id": "cb738229",
   "metadata": {},
   "outputs": [
    {
     "data": {
      "text/html": [
       "<div>\n",
       "<style scoped>\n",
       "    .dataframe tbody tr th:only-of-type {\n",
       "        vertical-align: middle;\n",
       "    }\n",
       "\n",
       "    .dataframe tbody tr th {\n",
       "        vertical-align: top;\n",
       "    }\n",
       "\n",
       "    .dataframe thead th {\n",
       "        text-align: right;\n",
       "    }\n",
       "</style>\n",
       "<table border=\"1\" class=\"dataframe\">\n",
       "  <thead>\n",
       "    <tr style=\"text-align: right;\">\n",
       "      <th></th>\n",
       "      <th>Unnamed: 0</th>\n",
       "      <th>User</th>\n",
       "      <th>Tweet</th>\n",
       "      <th>Tweet_Tokens</th>\n",
       "    </tr>\n",
       "  </thead>\n",
       "  <tbody>\n",
       "    <tr>\n",
       "      <th>0</th>\n",
       "      <td>0</td>\n",
       "      <td>Sunnysweet16</td>\n",
       "      <td>wonder why no academic or journalist asks inc ...</td>\n",
       "      <td>[wonder, why, no, academic, or, journalist, as...</td>\n",
       "    </tr>\n",
       "    <tr>\n",
       "      <th>1</th>\n",
       "      <td>1</td>\n",
       "      <td>drnitinchaube</td>\n",
       "      <td>congrats for the change australiavotes2019 and...</td>\n",
       "      <td>[congrats, for, the, change, australiavotes201...</td>\n",
       "    </tr>\n",
       "    <tr>\n",
       "      <th>2</th>\n",
       "      <td>2</td>\n",
       "      <td>mrvivek07</td>\n",
       "      <td>peopel say “govt ne 70 years kya kiya”\\nunse p...</td>\n",
       "      <td>[peopel, say, “, govt, ne, 70, years, kya, kiy...</td>\n",
       "    </tr>\n",
       "    <tr>\n",
       "      <th>3</th>\n",
       "      <td>3</td>\n",
       "      <td>JosephPravinP</td>\n",
       "      <td>ajaymaken rahulgandhi and as a final touch mod...</td>\n",
       "      <td>[ajaymaken, rahulgandhi, and, as, a, final, to...</td>\n",
       "    </tr>\n",
       "    <tr>\n",
       "      <th>4</th>\n",
       "      <td>4</td>\n",
       "      <td>VandanaMegastar</td>\n",
       "      <td>loksabhaelections2019 anyone not having mass b...</td>\n",
       "      <td>[loksabhaelections2019, anyone, not, having, m...</td>\n",
       "    </tr>\n",
       "  </tbody>\n",
       "</table>\n",
       "</div>"
      ],
      "text/plain": [
       "   Unnamed: 0             User  \\\n",
       "0           0     Sunnysweet16   \n",
       "1           1    drnitinchaube   \n",
       "2           2        mrvivek07   \n",
       "3           3    JosephPravinP   \n",
       "4           4  VandanaMegastar   \n",
       "\n",
       "                                               Tweet  \\\n",
       "0  wonder why no academic or journalist asks inc ...   \n",
       "1  congrats for the change australiavotes2019 and...   \n",
       "2  peopel say “govt ne 70 years kya kiya”\\nunse p...   \n",
       "3  ajaymaken rahulgandhi and as a final touch mod...   \n",
       "4  loksabhaelections2019 anyone not having mass b...   \n",
       "\n",
       "                                        Tweet_Tokens  \n",
       "0  [wonder, why, no, academic, or, journalist, as...  \n",
       "1  [congrats, for, the, change, australiavotes201...  \n",
       "2  [peopel, say, “, govt, ne, 70, years, kya, kiy...  \n",
       "3  [ajaymaken, rahulgandhi, and, as, a, final, to...  \n",
       "4  [loksabhaelections2019, anyone, not, having, m...  "
      ]
     },
     "execution_count": 62,
     "metadata": {},
     "output_type": "execute_result"
    }
   ],
   "source": [
    "rahul_df['Tweet_Tokens'] = rahul_df['Tweet'].apply(textToToken)\n",
    "rahul_df.head()"
   ]
  },
  {
   "cell_type": "code",
   "execution_count": 63,
   "id": "5867d230",
   "metadata": {},
   "outputs": [
    {
     "data": {
      "text/html": [
       "<div>\n",
       "<style scoped>\n",
       "    .dataframe tbody tr th:only-of-type {\n",
       "        vertical-align: middle;\n",
       "    }\n",
       "\n",
       "    .dataframe tbody tr th {\n",
       "        vertical-align: top;\n",
       "    }\n",
       "\n",
       "    .dataframe thead th {\n",
       "        text-align: right;\n",
       "    }\n",
       "</style>\n",
       "<table border=\"1\" class=\"dataframe\">\n",
       "  <thead>\n",
       "    <tr style=\"text-align: right;\">\n",
       "      <th></th>\n",
       "      <th>Unnamed: 0</th>\n",
       "      <th>User</th>\n",
       "      <th>Tweet</th>\n",
       "      <th>Tweet_Tokens</th>\n",
       "    </tr>\n",
       "  </thead>\n",
       "  <tbody>\n",
       "    <tr>\n",
       "      <th>0</th>\n",
       "      <td>0</td>\n",
       "      <td>advosushildixit</td>\n",
       "      <td>anjanaomkashyap i am seeing you as future bjp ...</td>\n",
       "      <td>[anjanaomkashyap, seeing, future, bjp, spokesp...</td>\n",
       "    </tr>\n",
       "    <tr>\n",
       "      <th>1</th>\n",
       "      <td>1</td>\n",
       "      <td>jiaeur</td>\n",
       "      <td>loksabhaelections2019 \\n23rd may 2019 will rev...</td>\n",
       "      <td>[loksabhaelections2019, 23rd, may, 2019, revea...</td>\n",
       "    </tr>\n",
       "    <tr>\n",
       "      <th>2</th>\n",
       "      <td>2</td>\n",
       "      <td>PVenkatGandhi</td>\n",
       "      <td>loksabhaelections2019 \\n23rd may 2019 will rev...</td>\n",
       "      <td>[loksabhaelections2019, 23rd, may, 2019, revea...</td>\n",
       "    </tr>\n",
       "    <tr>\n",
       "      <th>3</th>\n",
       "      <td>3</td>\n",
       "      <td>TheNirbhay1</td>\n",
       "      <td>pm modi creates a new record of being the only...</td>\n",
       "      <td>[pm, modi, creates, new, record, pm, democrati...</td>\n",
       "    </tr>\n",
       "    <tr>\n",
       "      <th>4</th>\n",
       "      <td>4</td>\n",
       "      <td>ShakeChilli</td>\n",
       "      <td>abhijitmajumder appointment of successor \\n\\ng...</td>\n",
       "      <td>[abhijitmajumder, appointment, successor, god,...</td>\n",
       "    </tr>\n",
       "  </tbody>\n",
       "</table>\n",
       "</div>"
      ],
      "text/plain": [
       "   Unnamed: 0             User  \\\n",
       "0           0  advosushildixit   \n",
       "1           1           jiaeur   \n",
       "2           2    PVenkatGandhi   \n",
       "3           3      TheNirbhay1   \n",
       "4           4      ShakeChilli   \n",
       "\n",
       "                                               Tweet  \\\n",
       "0  anjanaomkashyap i am seeing you as future bjp ...   \n",
       "1  loksabhaelections2019 \\n23rd may 2019 will rev...   \n",
       "2  loksabhaelections2019 \\n23rd may 2019 will rev...   \n",
       "3  pm modi creates a new record of being the only...   \n",
       "4  abhijitmajumder appointment of successor \\n\\ng...   \n",
       "\n",
       "                                        Tweet_Tokens  \n",
       "0  [anjanaomkashyap, seeing, future, bjp, spokesp...  \n",
       "1  [loksabhaelections2019, 23rd, may, 2019, revea...  \n",
       "2  [loksabhaelections2019, 23rd, may, 2019, revea...  \n",
       "3  [pm, modi, creates, new, record, pm, democrati...  \n",
       "4  [abhijitmajumder, appointment, successor, god,...  "
      ]
     },
     "execution_count": 63,
     "metadata": {},
     "output_type": "execute_result"
    }
   ],
   "source": [
    "def stopToWords(tokenized_words):\n",
    "    final_words = []\n",
    "    for word in tokenized_words:\n",
    "        if word not in stopwords.words('english'):\n",
    "            final_words.append(word)\n",
    "    return final_words\n",
    "\n",
    "\n",
    "modi_df['Tweet_Tokens'] = modi_df['Tweet_Tokens'].apply(stopToWords)\n",
    "modi_df.head()"
   ]
  },
  {
   "cell_type": "code",
   "execution_count": 67,
   "id": "ac04e176",
   "metadata": {},
   "outputs": [
    {
     "data": {
      "text/html": [
       "<div>\n",
       "<style scoped>\n",
       "    .dataframe tbody tr th:only-of-type {\n",
       "        vertical-align: middle;\n",
       "    }\n",
       "\n",
       "    .dataframe tbody tr th {\n",
       "        vertical-align: top;\n",
       "    }\n",
       "\n",
       "    .dataframe thead th {\n",
       "        text-align: right;\n",
       "    }\n",
       "</style>\n",
       "<table border=\"1\" class=\"dataframe\">\n",
       "  <thead>\n",
       "    <tr style=\"text-align: right;\">\n",
       "      <th></th>\n",
       "      <th>Unnamed: 0</th>\n",
       "      <th>User</th>\n",
       "      <th>Tweet</th>\n",
       "      <th>Tweet_Tokens</th>\n",
       "      <th>EmotionWords</th>\n",
       "    </tr>\n",
       "  </thead>\n",
       "  <tbody>\n",
       "    <tr>\n",
       "      <th>0</th>\n",
       "      <td>0</td>\n",
       "      <td>advosushildixit</td>\n",
       "      <td>anjanaomkashyap i am seeing you as future bjp ...</td>\n",
       "      <td>[anjanaomkashyap, seeing, future, bjp, spokesp...</td>\n",
       "      <td>[]</td>\n",
       "    </tr>\n",
       "    <tr>\n",
       "      <th>1</th>\n",
       "      <td>1</td>\n",
       "      <td>jiaeur</td>\n",
       "      <td>loksabhaelections2019 \\n23rd may 2019 will rev...</td>\n",
       "      <td>[loksabhaelections2019, 23rd, may, 2019, revea...</td>\n",
       "      <td>[]</td>\n",
       "    </tr>\n",
       "    <tr>\n",
       "      <th>2</th>\n",
       "      <td>2</td>\n",
       "      <td>PVenkatGandhi</td>\n",
       "      <td>loksabhaelections2019 \\n23rd may 2019 will rev...</td>\n",
       "      <td>[loksabhaelections2019, 23rd, may, 2019, revea...</td>\n",
       "      <td>[]</td>\n",
       "    </tr>\n",
       "    <tr>\n",
       "      <th>3</th>\n",
       "      <td>3</td>\n",
       "      <td>TheNirbhay1</td>\n",
       "      <td>pm modi creates a new record of being the only...</td>\n",
       "      <td>[pm, modi, creates, new, record, pm, democrati...</td>\n",
       "      <td>[]</td>\n",
       "    </tr>\n",
       "    <tr>\n",
       "      <th>4</th>\n",
       "      <td>4</td>\n",
       "      <td>ShakeChilli</td>\n",
       "      <td>abhijitmajumder appointment of successor \\n\\ng...</td>\n",
       "      <td>[abhijitmajumder, appointment, successor, god,...</td>\n",
       "      <td>[ sad,  sad]</td>\n",
       "    </tr>\n",
       "  </tbody>\n",
       "</table>\n",
       "</div>"
      ],
      "text/plain": [
       "   Unnamed: 0             User  \\\n",
       "0           0  advosushildixit   \n",
       "1           1           jiaeur   \n",
       "2           2    PVenkatGandhi   \n",
       "3           3      TheNirbhay1   \n",
       "4           4      ShakeChilli   \n",
       "\n",
       "                                               Tweet  \\\n",
       "0  anjanaomkashyap i am seeing you as future bjp ...   \n",
       "1  loksabhaelections2019 \\n23rd may 2019 will rev...   \n",
       "2  loksabhaelections2019 \\n23rd may 2019 will rev...   \n",
       "3  pm modi creates a new record of being the only...   \n",
       "4  abhijitmajumder appointment of successor \\n\\ng...   \n",
       "\n",
       "                                        Tweet_Tokens  EmotionWords  \n",
       "0  [anjanaomkashyap, seeing, future, bjp, spokesp...            []  \n",
       "1  [loksabhaelections2019, 23rd, may, 2019, revea...            []  \n",
       "2  [loksabhaelections2019, 23rd, may, 2019, revea...            []  \n",
       "3  [pm, modi, creates, new, record, pm, democrati...            []  \n",
       "4  [abhijitmajumder, appointment, successor, god,...  [ sad,  sad]  "
      ]
     },
     "execution_count": 67,
     "metadata": {},
     "output_type": "execute_result"
    }
   ],
   "source": [
    "def emotionAndWords(text):\n",
    "    word_list =[]\n",
    "    emotion_list = []\n",
    "    with open('./emotion','r') as file:\n",
    "        for line in file:\n",
    "            clear_line = line.replace(',','')\\\n",
    "            .replace('\\n','')\\\n",
    "            .replace(\"'\",'')\\\n",
    "            .strip()\n",
    "            word,emotion = clear_line.split(':')\n",
    "#             print(\"Words : \"+word+\" Emotion:\"+emotion)\n",
    "        \n",
    "            if word in text:\n",
    "                word_list.append(word)\n",
    "                emotion_list.append(emotion)\n",
    "    return emotion_list\n",
    "\n",
    "modi_df[\"EmotionWords\"] = modi_df[\"Tweet_Tokens\"].apply(emotionAndWords)\n",
    "modi_df.head()"
   ]
  },
  {
   "cell_type": "code",
   "execution_count": 70,
   "id": "22af1ca7",
   "metadata": {},
   "outputs": [
    {
     "name": "stdout",
     "output_type": "stream",
     "text": [
      "[' sad', ' sad', ' demoralized', ' lost', ' entitled', ' happy', ' apathetic', ' sad', ' happy', ' independent', ' happy', ' free', ' adequate', ' independent', ' powerless', ' happy', ' attracted', ' fearful', ' attached', ' sad', ' powerless', ' lost', ' lost', ' happy', ' alone', ' happy', ' sad', ' loved', ' happy', ' lost', ' entitled', ' surprise', ' alone', ' alone', ' alone', ' happy', ' focused', ' independent', ' cheated', ' happy', ' alone', ' happy', ' happy', ' happy', ' average', ' angry', ' fearful', ' fearless', ' adequate', ' fearful', ' powerless', ' attached', ' loved', ' happy', ' adequate', ' happy', ' surprise', ' fearful', ' happy', ' happy', ' powerless', ' attached', ' happy', ' fearful', ' happy', ' adequate', ' sad', ' sad', ' independent', ' fearful', ' fearful', ' powerless', ' powerless', ' attached', ' loved', ' cheated', ' sad', ' happy', ' fearful', ' happy', ' fearful', ' free', ' independent', ' fearful', ' hated', ' anxious', ' anxious', ' powerless', ' free', ' powerless', ' lost', ' singled out', ' independent', ' angry', ' happy', ' powerless', ' angry', ' alone', ' average', ' happy', ' adequate', ' sad', ' sad', ' adequate', ' loved', ' cheated', ' lost', ' sad', ' happy', ' sad', ' alone', ' fearful', ' average', ' happy', ' cheated', ' fearless', ' alone', ' sad', ' sad', ' attracted', ' free', ' happy', ' cheated', ' alone', ' cheated', ' loved', ' esteemed', ' independent', ' powerless', ' happy', ' safe', ' happy', ' angry', ' lost', ' sad', ' fearful', ' sad', ' bored', ' fearful', ' fearful', ' ecstatic', ' fearful', ' adequate', ' free', ' free', ' independent', ' focused', ' fearful', ' powerless', ' angry', ' angry', ' lost', ' powerless', ' fearful', ' average', ' cheated', ' embarrassed', ' independent', ' free', ' adequate', ' attached', ' happy', ' attracted', ' anxious', ' happy', ' happy', ' independent', ' alone', ' esteemed', ' fearful', ' angry', ' happy', ' happy', ' angry', ' alone', ' happy', ' fearful', ' sad', ' adequate', ' sad', ' esteemed', ' sad', ' average', ' attached', ' independent', ' independent', ' sad', ' sad', ' sad', ' embarrassed', ' independent', ' sad', ' attracted', ' surprise', ' fearful', ' sad', ' sad', ' surprise', ' surprise', ' fearful', ' hated', ' loved', ' happy', ' free', ' sad', ' sad', ' sad', ' obsessed', ' happy', ' adequate', ' lost', ' happy', ' cheated', ' independent', ' fearful', ' sad', ' sad', ' sad', ' happy', ' attracted', ' independent', ' free', ' sad', ' attached', ' attracted', ' powerless', ' loved', ' fearful', ' esteemed', ' happy', ' esteemed', ' happy', ' happy', ' happy', ' lost', ' cheated', ' attached', ' loved', ' safe', ' independent', ' happy', ' happy', ' happy', ' hated', ' loved', ' fearless', ' independent', ' lustful', ' fearful', ' happy', ' happy', ' esteemed', ' lost', ' happy', ' happy', ' attracted', ' alone', ' independent', ' loved', ' happy', ' attracted', ' esteemed', ' esteemed', ' sad', ' fearful', ' happy', ' free', ' fearful', ' free', ' lost', ' fearful', ' happy', ' powerless', ' free', ' powerless', ' attached', ' fearless', ' happy', ' happy', ' fearful', ' happy', ' happy', ' loved', ' happy', ' esteemed', ' powerless', ' singled out', ' alone', ' anxious', ' embarrassed', ' focused', ' lost', ' happy', ' attached', ' hated', ' angry', ' free', ' attached', ' angry', ' happy', ' esteemed', ' happy', ' happy', ' embarrassed', ' cheated', ' powerless', ' surprise', ' esteemed', ' lost', ' angry', ' esteemed', ' cheated', ' hated', ' focused', ' fearless', ' obsessed', ' fearless', ' adequate', ' happy', ' surprise', ' sad', ' fearful', ' happy', ' independent', ' free', ' fearful', ' fearless', ' happy', ' fearful', ' happy', ' average', ' esteemed', ' happy', ' happy', ' happy', ' attracted', ' independent', ' hated', ' lost', ' sad', ' free', ' cheated', ' happy', ' lost', ' lost', ' lost', ' lost', ' sad', ' sad', ' cheated', ' cheated', ' alone', ' hated', ' alone', ' hated', ' happy', ' adequate', ' adequate', ' sad', ' sad', ' alone', ' happy', ' independent', ' lost', ' lost', ' hated', ' fearful', ' lost', ' surprise', ' focused', ' surprise', ' surprise', ' happy', ' hated', ' average', ' average', ' happy', ' lost', ' hated', ' attached', ' hated', ' free', ' lost', ' alone', ' loved', ' fearful', ' independent', ' surprise', ' angry', ' happy', ' average', ' powerless', ' powerless', ' cheated', ' attracted', ' happy', ' adequate', ' attached', ' happy', ' sad', ' attached', ' angry', ' independent', ' adequate', ' independent', ' cheated', ' happy', ' lost', ' happy', ' lost', ' belittled', ' angry', ' lost', ' powerless', ' cheated', ' fearful', ' powerless', ' angry', ' fearful', ' loved', ' surprise', ' lost', ' attracted', ' loved', ' adequate', ' esteemed', ' attached', ' esteemed', ' attracted', ' sad', ' sad', ' sad', ' lost', ' angry', ' happy', ' happy', ' happy', ' adequate', ' adequate', ' fearful', ' fearful', ' angry', ' angry', ' happy', ' happy', ' cheated', ' happy', ' angry', ' free', ' fearless', ' fearful', ' sad', ' sad', ' happy', ' singled out', ' singled out', ' lost', ' loved', ' cheated', ' angry', ' esteemed', ' lost', ' happy', ' fearful', ' hated', ' happy', ' lost', ' esteemed', ' sad', ' sad', ' sad', ' adequate', ' adequate', ' happy', ' singled out', ' adequate', ' angry', ' lost', ' fearful', ' powerless', ' cheated', ' esteemed', ' esteemed', ' attached', ' loved', ' esteemed', ' loved', ' average', ' entitled', ' anxious', ' entitled', ' sad', ' sad', ' sad', ' attached', ' hated', ' anxious', ' adequate', ' safe', ' powerless', ' lost', ' attached', ' attached', ' loved', ' free', ' adequate', ' sad', ' sad', ' sad', ' safe', ' fearful', ' lost', ' sad', ' happy', ' lost', ' attracted', ' surprise', ' anxious', ' lost', ' attracted', ' free', ' angry', ' loved', ' derailed', ' anxious', ' anxious', ' loved', ' happy', ' angry', ' sad', ' burdened', ' sad', ' angry', ' happy', ' hated', ' attracted', ' adequate', ' esteemed', ' lost', ' happy', ' happy', ' fearless', ' happy', ' happy', ' sad', ' sad', ' fearless', ' sad', ' sad', ' ecstatic', ' powerless', ' happy', ' adequate', ' burdened', ' esteemed', ' fearful', ' ecstatic', ' happy', ' powerless', ' happy', ' fearless', ' angry', ' happy', ' happy', ' fearless', ' fearless', ' attracted', ' surprise', ' alone', ' hated', ' happy', ' average', ' loved', ' fearful', ' attracted', ' lost', ' happy', ' adequate', ' average', ' sad', ' sad', ' sad', ' sad', ' sad', ' sad', ' happy', ' angry', ' happy', ' cheated', ' independent', ' angry', ' attracted', ' attracted', ' fearful', ' independent', ' free', ' sad', ' angry', ' happy', ' sad', ' cheated', ' cheated', ' average', ' sad', ' cheated', ' free', ' free', ' happy', ' surprise', ' happy', ' esteemed', ' independent', ' independent', ' adequate', ' happy', ' happy', ' angry', ' fearful', ' lost', ' fearless', ' fearful', ' happy', ' cheated', ' powerless', ' powerless', ' powerless', ' independent', ' attracted', ' independent', ' adequate', ' happy', ' free', ' lost', ' sad', ' sad', ' fearful', ' average', ' happy', ' lost', ' sad', ' sad', ' happy', ' lost', ' sad', ' happy', ' esteemed', ' esteemed', ' average', ' fearful', ' happy', ' attached', ' lost', ' cheated', ' loved', ' happy', ' happy', ' independent', ' loved', ' alone', ' hated', ' happy', ' adequate', ' attracted', ' alone', ' hated', ' fearless', ' alone', ' hated', ' independent', ' fearless', ' hated', ' sad', ' sad', ' sad', ' sad', ' happy', ' lost', ' powerless', ' fearful', ' fearful', ' sad', ' sad', ' powerless', ' average', ' cheated', ' happy', ' happy', ' attracted', ' cheated', ' fearful', ' happy', ' sad', ' happy', ' happy', ' attracted', ' loved', ' angry', ' hated', ' adequate', ' surprise', ' sad', ' happy', ' anxious', ' alone', ' hated', ' powerless', ' happy', ' happy', ' singled out', ' singled out', ' free', ' happy', ' fearful', ' surprise', ' happy', ' powerless', ' cheated', ' alone', ' focused', ' hated', ' belittled', ' cheated', ' attracted', ' sad', ' fearful', ' sad', ' fearful', ' happy', ' sad', ' sad', ' sad', ' apathetic', ' sad', ' sad', ' sad', ' happy', ' fearless', ' adequate', ' average', ' sad', ' sad', ' happy', ' average', ' powerless', ' demoralized', ' fearful', ' alone', ' powerless', ' powerless', ' happy', ' attracted', ' powerless', ' fearless', ' demoralized', ' cheated', ' happy', ' sad', ' sad', ' esteemed', ' happy', ' happy', ' happy', ' loved', ' cheated', ' esteemed', ' adequate', ' independent', ' esteemed', ' esteemed', ' esteemed', ' free', ' happy', ' happy', ' average', ' fearful', ' embarrassed', ' happy', ' attracted', ' happy', ' attracted', ' happy', ' sad', ' sad', ' sad', ' happy', ' happy', ' happy', ' happy', ' independent', ' happy', ' attracted', ' free', ' happy', ' lost', ' loved', ' average', ' sad', ' happy', ' adequate', ' happy', ' fearful', ' loved', ' happy', ' esteemed', ' fearful', ' fearful', ' free', ' free', ' surprise', ' independent', ' happy', ' happy', ' happy', ' happy', ' happy', ' attracted', ' powerless', ' happy', ' sad', ' sad', ' happy', ' powerless', ' fearful', ' sad', ' anxious', ' sad', ' sad', ' sad', ' sad', ' esteemed', ' lost', ' cheated', ' alone', ' sad', ' fearful', ' sad', ' anxious', ' sad', ' esteemed', ' focused', ' codependent', ' fearful', ' powerless', ' lost', ' free', ' angry', ' obsessed', ' hated', ' happy', ' attached', ' loved', ' fearful', ' sad', ' anxious', ' sad', ' fearful', ' sad', ' anxious', ' sad', ' esteemed', ' happy', ' fearful', ' apathetic', ' fearful', ' happy', ' focused', ' alone', ' happy', ' adequate', ' independent', ' powerless', ' happy', ' fearful', ' cheated', ' singled out', ' singled out', ' independent', ' lost', ' adequate', ' fearful', ' attached', ' happy', ' fearful', ' angry', ' average', ' attracted', ' independent', ' sad', ' adequate', ' free', ' fearful', ' fearful', ' powerless', ' powerless', ' powerless', ' average', ' independent', ' lost', ' attracted', ' focused', ' loved', ' independent', ' powerless', ' happy', ' happy', ' lost', ' fearful', ' happy', ' lost', ' sad', ' attracted', ' sad', ' fearful', ' powerless', ' fearful', ' angry', ' sad', ' surprise', ' fearful', ' loved', ' sad', ' free', ' lost', ' loved', ' happy', ' happy', ' happy', ' happy', ' esteemed', ' happy', ' happy', ' free', ' happy', ' happy', ' attracted', ' surprise', ' angry', ' fearful', ' fearless', ' lost', ' adequate', ' average', ' attached', ' anxious', ' fearful', ' codependent', ' powerless', ' fearful', ' average', ' happy', ' surprise', ' happy', ' lost', ' attached', ' cheated', ' powerless', ' happy', ' sad', ' sad', ' happy', ' sad', ' ecstatic', ' independent', ' angry', ' happy', ' happy', ' average', ' happy', ' happy', ' happy', ' angry', ' happy', ' average', ' average', ' attracted', ' independent', ' happy', ' attracted', ' sad', ' cheated', ' sad', ' sad', ' free', ' happy', ' cheated', ' free', ' sad', ' sad', ' fearful', ' free', ' powerless', ' esteemed', ' happy', ' sad', ' happy', ' angry', ' lost', ' average', ' happy', ' happy', ' happy', ' esteemed', ' esteemed', ' esteemed', ' independent', ' independent', ' happy', ' happy', ' esteemed', ' happy', ' powerless', ' happy', ' happy', ' independent', ' fearful', ' lost', ' average', ' free', ' happy', ' happy', ' angry', ' lost', ' happy', ' lost', ' esteemed', ' esteemed', ' esteemed', ' happy', ' adequate', ' average', ' happy', ' lost', ' fearless', ' happy', ' happy', ' esteemed', ' sad', ' sad', ' sad', ' sad', ' fearless', ' fearful', ' sad', ' sad', ' sad', ' free', ' fearless', ' esteemed', ' powerless', ' lost', ' happy', ' angry', ' sad', ' sad', ' sad', ' powerless', ' fearful', ' adequate', ' entitled', ' attracted', ' free', ' powerless', ' safe', ' happy', ' independent', ' independent', ' independent', ' average', ' fearful', ' powerless', ' hated', ' fearful', ' happy', ' singled out', ' loved', ' sad', ' sad', ' powerless', ' happy', ' cheated', ' lost', ' alone', ' hated', ' free', ' happy', ' happy', ' esteemed', ' sad', ' attracted', ' independent', ' sad', ' sad', ' fearless', ' fearless', ' happy', ' sad', ' fearful', ' happy', ' lost', ' happy', ' free', ' cheated', ' anxious', ' free', ' happy', ' happy', ' adequate', ' sad', ' cheated', ' happy', ' independent', ' powerless', ' happy', ' alone', ' fearful', ' alone', ' independent', ' alone', ' hated', ' happy', ' esteemed', ' esteemed', ' sad', ' fearful', ' powerless', ' happy', ' fearful', ' fearful', ' powerless', ' happy', ' attracted', ' happy', ' attached', ' happy', ' derailed', ' fearless', ' cheated', ' happy', ' cheated', ' cheated', ' ecstatic', ' happy', ' adequate', ' cheated', ' belittled', ' powerless', ' fearless', ' esteemed', ' cheated', ' average', ' independent', ' lost', ' happy', ' attached', ' fearless', ' fearful', ' sad', ' sad', ' sad', ' sad', ' focused', ' lost', ' independent', ' fearful', ' cheated', ' sad', ' esteemed', ' cheated', ' attracted', ' demoralized', ' adequate', ' happy', ' lost', ' attracted', ' happy', ' angry', ' fearful', ' fearful', ' fearful', ' happy', ' sad', ' cheated', ' fearless', ' happy', ' fearful', ' independent', ' independent', ' independent', ' cheated', ' independent', ' esteemed', ' happy', ' free', ' happy', ' esteemed', ' attracted', ' sad', ' sad', ' cheated', ' independent', ' cheated', ' free', ' fearful', ' happy', ' powerless', ' average', ' free', ' attracted', ' fearful', ' independent', ' sad', ' sad', ' adequate', ' average', ' singled out', ' singled out', ' surprise', ' free', ' cheated', ' cheated', ' attached', ' average', ' free', ' happy', ' happy', ' lost', ' entitled', ' fearless', ' cheated', ' happy', ' lost', ' happy', ' cheated', ' free', ' esteemed', ' cheated', ' cheated', ' cheated', ' attracted', ' happy', ' happy', ' lost', ' happy', ' safe', ' cheated', ' demoralized', ' lost', ' hated', ' embarrassed', ' lost', ' adequate', ' happy', ' happy', ' surprise', ' happy', ' happy', ' fearful', ' anxious', ' powerless', ' surprise', ' cheated', ' adequate', ' attracted', ' free', ' demoralized', ' fearful', ' angry', ' lost', ' happy', ' singled out', ' singled out', ' cheated', ' happy', ' average', ' happy', ' adequate', ' obsessed', ' happy', ' happy', ' fearful', ' happy', ' angry', ' anxious', ' sad', ' lost', ' esteemed', ' lost', ' surprise', ' cheated', ' free', ' cheated', ' fearful', ' happy', ' demoralized', ' ecstatic', ' alone', ' fearful', ' fearful', ' fearful', ' esteemed', ' adequate', ' attracted', ' lost', ' esteemed', ' focused', ' happy', ' attracted', ' alone', ' happy', ' happy', ' free', ' lost', ' free', ' average', ' angry', ' happy', ' lost', ' attached', ' attracted', ' loved', ' esteemed', ' happy', ' independent', ' attracted', ' sad', ' sad', ' sad', ' free', ' average', ' sad', ' esteemed', ' apathetic', ' adequate', ' happy', ' sad', ' attracted', ' adequate', ' happy', ' happy', ' average', ' independent', ' powerless', ' hated', ' free', ' esteemed', ' alone', ' attached', ' lost', ' sad', ' sad', ' powerless', ' happy', ' independent', ' angry', ' happy', ' happy', ' attracted', ' alone', ' attracted', ' sad', ' happy', ' powerless', ' codependent', ' sad', ' lustful', ' focused', ' focused', ' surprise', ' attracted', ' fearless', ' esteemed', ' hated', ' powerless', ' entitled', ' lost', ' surprise', ' free', ' attracted', ' lost', ' fearful', ' average', ' happy', ' fearful', ' singled out', ' happy', ' attracted', ' happy', ' demoralized', ' fearful', ' fearful', ' fearful', ' fearful', ' independent', ' attracted', ' independent', ' surprise', ' happy', ' cheated', ' happy', ' happy', ' adequate', ' alone', ' esteemed', ' happy', ' happy', ' cheated', ' entitled', ' happy', ' entitled', ' happy', ' alone', ' codependent', ' independent', ' cheated', ' safe', ' happy', ' lost', ' happy', ' happy', ' attracted', ' happy', ' happy', ' sad', ' sad', ' attached', ' esteemed', ' free', ' happy', ' adequate', ' adequate', ' average', ' sad', ' lost', ' sad', ' sad', ' angry', ' fearless', ' fearful', ' free', ' surprise', ' happy', ' esteemed', ' apathetic', ' powerless', ' happy', ' average', ' sad', ' sad', ' sad', ' esteemed', ' independent', ' surprise', ' free', ' fearful', ' lost', ' sad', ' sad', ' free', ' fearful', ' attached', ' lost', ' powerless', ' free', ' esteemed', ' angry', ' fearful', ' happy', ' hated', ' powerless', ' lost', ' sad', ' fearful', ' sad', ' focused', ' angry', ' happy', ' independent', ' average', ' fearless', ' safe', ' attached', ' happy', ' demoralized', ' sad', ' happy', ' sad', ' demoralized', ' free', ' free', ' ecstatic', ' free', ' happy', ' happy', ' independent', ' free', ' happy', ' adequate', ' happy', ' loved', ' sad', ' sad', ' sad', ' independent', ' lost', ' happy', ' surprise', ' attached', ' attached', ' powerless', ' hated', ' adequate', ' angry', ' lost', ' attached', ' sad', ' sad', ' attracted', ' happy', ' alone', ' happy', ' happy', ' sad', ' free', ' independent', ' free', ' happy', ' cheated', ' attached', ' sad', ' sad', ' powerless', ' free', ' surprise', ' surprise', ' attracted', ' powerless', ' surprise', ' happy', ' happy', ' lost', ' powerless', ' attached', ' surprise', ' attracted', ' cheated', ' esteemed', ' sad', ' happy', ' happy', ' happy', ' sad', ' sad', ' free', ' lost', ' happy', ' happy', ' surprise', ' independent', ' powerless', ' fearful', ' sad', ' sad', ' cheated', ' angry', ' attached', ' surprise', ' powerless', ' sad', ' sad', ' free', ' free', ' fearful', ' happy', ' fearless', ' focused', ' free', ' angry', ' adequate', ' free', ' independent', ' sad', ' focused', ' happy', ' powerless', ' fearful', ' obsessed', ' sad', ' independent', ' cheated', ' hated', ' esteemed', ' sad', ' sad', ' cheated', ' embarrassed', ' happy', ' fearless', ' lost', ' fearless', ' lost', ' independent', ' attracted', ' embarrassed', ' independent', ' happy', ' happy', ' happy', ' loved', ' happy', ' happy', ' sad', ' average', ' focused', ' focused', ' focused', ' hated', ' sad', ' cheated', ' free', ' powerless', ' fearless', ' independent', ' independent', ' loved', ' happy', ' happy', ' happy', ' fearless', ' happy', ' independent', ' attracted', ' fearful', ' fearful', ' happy', ' hated', ' happy', ' cheated', ' independent', ' singled out', ' attracted', ' embarrassed', ' average', ' fearful', ' happy', ' fearful', ' free', ' adequate', ' free', ' independent', ' independent', ' free', ' free', ' free', ' free', ' free', ' free', ' happy', ' independent', ' powerless', ' free', ' fearful', ' free', ' happy', ' happy', ' average', ' average', ' esteemed', ' esteemed', ' surprise', ' attracted', ' happy', ' angry', ' attracted', ' powerless', ' free', ' surprise', ' happy', ' surprise', ' entitled', ' derailed', ' happy', ' attached', ' cheated', ' focused', ' codependent', ' average', ' angry', ' fearful', ' happy', ' fearful', ' happy', ' average', ' sad', ' happy', ' surprise', ' happy', ' esteemed', ' adequate', ' focused', ' adequate', ' sad', ' adequate', ' lost', ' free', ' happy', ' powerless', ' fearless', ' independent', ' lost', ' happy', ' happy', ' anxious', ' happy', ' happy', ' happy', ' hated', ' happy', ' average', ' powerless', ' free', ' lost', ' alone', ' hated', ' independent', ' independent', ' independent', ' happy', ' average', ' happy', ' happy', ' adequate', ' attracted', ' independent', ' sad', ' alone', ' hated', ' independent', ' angry', ' attached', ' loved', ' angry', ' happy', ' angry', ' average', ' angry', ' codependent', ' fearless', ' hated', ' fearful', ' fearful', ' cheated', ' independent', ' happy', ' average', ' embarrassed', ' hated', ' cheated', ' lost', ' fearful', ' singled out', ' happy', ' sad', ' fearful', ' sad', ' attached', ' free', ' happy', ' sad', ' sad', ' average', ' angry', ' happy', ' happy', ' attached', ' happy', ' attracted', ' fearful', ' attracted', ' free', ' happy', ' alone', ' free', ' hated', ' happy', ' cheated', ' sad', ' free', ' sad', ' happy', ' happy', ' attracted', ' sad', ' sad', ' fearful', ' lost', ' fearful', ' lost', ' happy', ' fearful', ' fearless', ' angry', ' esteemed', ' surprise', ' happy', ' happy', ' independent', ' happy', ' attracted', ' entitled', ' attracted', ' happy', ' happy', ' alone', ' fearful', ' sad', ' cheated', ' attached', ' free', ' happy', ' free', ' anxious', ' singled out', ' burdened', ' free', ' adequate', ' cheated', ' average', ' esteemed', ' fearful', ' alone', ' independent', ' attracted', ' happy', ' powerless', ' happy', ' fearful', ' free', ' free', ' happy', ' fearful', ' free', ' happy', ' surprise', ' happy', ' independent', ' alone', ' happy', ' happy', ' surprise', ' fearless', ' attracted', ' happy', ' happy', ' surprise', ' angry', ' anxious', ' average', ' happy', ' attracted', ' adequate', ' free', ' angry', ' powerless', ' focused', ' powerless', ' independent', ' alone', ' hated', ' happy', ' attracted', ' happy', ' powerless', ' esteemed', ' free', ' lost', ' happy', ' happy', ' anxious', ' independent', ' surprise', ' attracted', ' happy', ' happy', ' fearful', ' anxious', ' attached', ' free', ' adequate', ' independent', ' esteemed', ' happy', ' independent', ' powerless', ' independent', ' happy', ' happy', ' adequate', ' free', ' attracted', ' attracted', ' adequate', ' happy', ' angry', ' sad', ' attracted', ' attracted', ' fearful', ' fearful', ' independent', ' fearful', ' fearless', ' happy', ' apathetic', ' free', ' happy', ' fearless', ' fearful', ' embarrassed', ' sad', ' powerless', ' happy', ' happy', ' loved', ' surprise', ' fearless', ' sad', ' sad', ' esteemed', ' powerless', ' happy', ' angry', ' lost', ' independent', ' happy', ' alone', ' happy', ' adequate', ' sad', ' independent', ' happy', ' esteemed', ' sad', ' sad', ' happy', ' cheated', ' lost', ' happy', ' sad', ' angry', ' happy', ' attached', ' powerless', ' adequate', ' happy', ' happy', ' happy', ' fearful', ' obsessed', ' happy', ' demoralized', ' independent', ' surprise', ' happy', ' adequate', ' surprise', ' fearful', ' fearful', ' average', ' attracted', ' happy', ' fearful', ' lost', ' free', ' sad', ' sad', ' alone', ' lost', ' fearless', ' independent', ' powerless', ' independent', ' adequate', ' alone', ' attached', ' loved', ' happy', ' angry', ' lost', ' happy', ' happy', ' hated', ' esteemed', ' embarrassed', ' happy', ' hated', ' sad', ' attached', ' happy', ' average', ' happy', ' average', ' independent', ' sad', ' powerless', ' lost', ' hated', ' sad', ' independent', ' hated', ' fearful', ' lost', ' happy', ' singled out', ' free', ' happy', ' free', ' anxious', ' happy', ' fearless', ' free', ' independent', ' sad', ' sad', ' hated', ' happy', ' lost', ' happy', ' happy', ' independent', ' alone', ' happy', ' alone', ' surprise', ' happy', ' entitled', ' powerless', ' esteemed', ' adequate', ' fearless', ' independent', ' happy', ' happy', ' lost', ' average', ' fearful', ' cheated', ' fearless', ' anxious', ' fearful', ' adequate', ' adequate', ' powerless', ' attracted', ' happy', ' alone', ' hated', ' alone', ' hated', ' free', ' apathetic', ' anxious', ' fearless', ' happy', ' free', ' free', ' anxious', ' free', ' lost', ' sad', ' sad', ' happy', ' anxious', ' independent', ' powerless', ' free', ' attached', ' anxious', ' happy', ' entitled', ' average', ' adequate', ' independent', ' adequate', ' happy', ' loved', ' average', ' adequate', ' attracted', ' demoralized', ' free', ' average', ' fearful', ' independent', ' hated', ' focused', ' happy', ' adequate', ' esteemed', ' cheated', ' cheated', ' fearful', ' happy', ' adequate', ' independent', ' independent', ' happy', ' happy', ' average', ' sad', ' sad', ' sad', ' happy', ' happy', ' fearful', ' happy', ' attached', ' loved', ' bored', ' fearless', ' happy', ' esteemed', ' attracted', ' fearful', ' anxious', ' hated', ' happy', ' average', ' happy', ' cheated', ' powerless', ' sad', ' attracted', ' free', ' free', ' independent', ' independent', ' cheated', ' happy', ' safe', ' happy', ' independent', ' happy', ' happy', ' surprise', ' independent', ' sad', ' sad', ' free', ' alone', ' happy', ' fearful', ' happy', ' happy', ' sad', ' sad', ' lost', ' happy', ' fearful', ' happy', ' happy', ' happy', ' happy', ' independent', ' sad', ' lost', ' happy', ' sad', ' sad', ' happy', ' esteemed', ' sad', ' sad', ' fearless', ' independent', ' sad', ' sad', ' happy', ' sad', ' sad', ' happy', ' surprise', ' happy', ' sad', ' average', ' fearless', ' fearless', ' independent', ' happy', ' happy', ' free', ' sad', ' sad', ' sad', ' sad', ' sad', ' sad', ' lost', ' fearful', ' happy', ' free', ' happy', ' happy', ' anxious', ' esteemed', ' free', ' esteemed', ' attracted', ' free', ' happy', ' happy', ' happy', ' happy', ' happy', ' average', ' free', ' angry', ' happy', ' adequate', ' happy', ' attracted', ' independent', ' esteemed', ' happy', ' happy', ' independent', ' happy', ' free', ' attracted', ' free', ' happy', ' free', ' adequate', ' happy', ' happy', ' happy', ' happy', ' happy', ' happy', ' surprise', ' adequate', ' free', ' powerless', ' free', ' fearful', ' fearless', ' independent', ' powerless', ' powerless', ' sad', ' fearful', ' happy', ' fearless', ' adequate', ' esteemed', ' focused', ' free', ' powerless', ' free', ' independent', ' free', ' happy', ' free', ' esteemed', ' powerless', ' independent', ' cheated', ' hated', ' average', ' alone', ' average', ' independent', ' lost', ' independent', ' fearful', ' free', ' free', ' happy', ' happy', ' happy', ' attached', ' loved', ' belittled', ' fearful', ' fearful', ' happy', ' attracted', ' fearful', ' independent', ' attached', ' happy', ' independent', ' alone', ' hated', ' independent', ' esteemed', ' embarrassed', ' attracted', ' hated', ' happy', ' adequate', ' happy', ' sad', ' fearful', ' happy', ' fearful', ' adequate', ' fearful', ' angry', ' adequate', ' happy', ' happy', ' attached', ' independent', ' powerless', ' surprise', ' sad', ' lost', ' cheated', ' average', ' independent', ' average', ' fearless', ' surprise', ' free', ' angry', ' happy', ' happy', ' free', ' happy', ' independent', ' happy', ' free', ' happy', ' fearful', ' demoralized', ' lost', ' average', ' happy', ' happy', ' sad', ' alone', ' average', ' adequate', ' fearless', ' esteemed', ' fearless', ' attracted', ' average', ' powerless', ' safe', ' angry', ' attracted', ' anxious', ' free', ' attached', ' loved', ' happy', ' happy', ' happy', ' adequate', ' esteemed', ' happy', ' happy', ' average', ' happy', ' fearful', ' anxious', ' embarrassed', ' attached', ' happy', ' happy', ' fearful', ' independent', ' happy', ' average', ' attached', ' loved', ' happy', ' free', ' happy', ' happy', ' anxious', ' fearless', ' esteemed', ' cheated', ' esteemed', ' cheated', ' esteemed', ' powerless', ' powerless', ' attached', ' average', ' happy', ' happy', ' powerless', ' powerless', ' cheated', ' esteemed', ' fearful', ' happy', ' sad', ' adequate', ' powerless', ' happy', ' sad', ' happy', ' average', ' angry', ' attracted', ' free', ' free', ' happy', ' sad', ' hated', ' sad', ' lost', ' sad', ' independent', ' free', ' happy', ' happy', ' entitled', ' average', ' angry', ' lost', ' sad', ' alone', ' hated', ' singled out', ' happy', ' esteemed', ' angry', ' surprise', ' cheated', ' adequate', ' powerless', ' fearful', ' sad', ' average', ' happy', ' cheated', ' esteemed', ' cheated', ' happy', ' sad', ' happy', ' happy', ' adequate', ' sad', ' lost', ' happy', ' cheated', ' average', ' cheated', ' cheated', ' cheated', ' cheated', ' cheated', ' cheated', ' cheated', ' fearful', ' independent', ' happy', ' anxious', ' fearful', ' adequate', ' happy', ' attached', ' loved', ' sad', ' fearful', ' free', ' lost', ' fearful', ' sad', ' average', ' alone', ' average', ' fearless', ' fearful', ' adequate', ' attracted', ' average', ' independent', ' sad', ' surprise', ' independent', ' obsessed', ' alone', ' happy', ' happy', ' alone', ' demoralized', ' powerless', ' esteemed', ' fearful', ' powerless', ' fearless', ' attached', ' happy', ' angry', ' happy', ' alone', ' hated', ' independent', ' esteemed', ' free', ' happy', ' happy', ' happy', ' attracted', ' happy', ' happy', ' safe', ' happy', ' happy', ' loved', ' esteemed', ' attracted', ' attached', ' alone', ' happy', ' adequate', ' average', ' powerless', ' fearful', ' happy', ' lost', ' sad', ' sad', ' alone', ' fearless', ' esteemed', ' independent', ' lost', ' lost', ' happy', ' adequate', ' happy', ' happy', ' powerless', ' adequate', ' happy', ' happy', ' focused', ' fearful', ' happy', ' free', ' happy', ' independent', ' adequate', ' happy', ' powerless', ' lost', ' attracted', ' happy', ' esteemed', ' happy', ' esteemed', ' happy', ' happy', ' angry', ' sad', ' fearful', ' free', ' happy', ' esteemed', ' fearful', ' powerless', ' adequate', ' fearful', ' sad', ' independent', ' happy', ' fearless', ' independent', ' lost', ' independent', ' singled out', ' happy', ' anxious', ' happy', ' happy', ' happy', ' fearless', ' independent', ' adequate', ' sad', ' singled out', ' singled out', ' singled out', ' happy', ' happy', ' attached', ' loved', ' happy', ' average', ' anxious', ' lost', ' happy', ' fearless', ' independent', ' happy', ' happy', ' happy', ' happy', ' fearless', ' independent', ' happy', ' attracted', ' fearless', ' adequate', ' singled out', ' singled out', ' happy', ' fearless', ' independent', ' free', ' happy', ' fearless', ' independent', ' obsessed', ' lost', ' average', ' cheated', ' happy', ' happy', ' fearless', ' independent', ' free', ' free', ' free', ' happy', ' fearless', ' independent', ' esteemed', ' happy', ' fearless', ' independent', ' angry', ' happy', ' fearless', ' independent', ' attached', ' loved', ' happy', ' happy', ' happy', ' fearless', ' independent', ' happy', ' fearless', ' independent', ' happy', ' happy', ' happy', ' free', ' alone', ' happy', ' powerless', ' alone', ' esteemed', ' average', ' attracted', ' happy', ' adequate', ' happy', ' free', ' happy', ' lost', ' attached', ' loved', ' happy', ' sad', ' attracted', ' attached', ' happy', ' angry', ' angry', ' embarrassed', ' adequate', ' alone', ' adequate', ' sad', ' independent', ' alone', ' ecstatic', ' esteemed', ' independent', ' happy', ' adequate', ' happy', ' happy', ' anxious', ' happy', ' free', ' sad', ' adequate', ' happy', ' focused', ' happy', ' happy', ' angry', ' alone', ' sad', ' sad', ' adequate', ' adequate', ' sad', ' fearful', ' independent', ' adequate', ' happy', ' attracted', ' happy', ' happy', ' happy', ' happy', ' esteemed', ' adequate', ' sad', ' fearless', ' powerless', ' happy', ' fearful', ' cheated', ' happy', ' singled out', ' average', ' anxious', ' powerless', ' average', ' free', ' anxious', ' attracted', ' happy', ' happy', ' independent', ' attached', ' attracted', ' adequate', ' average', ' adequate', ' adequate', ' safe', ' happy', ' lustful', ' fearful', ' happy', ' happy', ' sad', ' independent', ' happy', ' loved', ' independent', ' happy', ' average', ' sad', ' happy', ' happy', ' esteemed', ' fearless', ' sad', ' lost', ' powerless', ' fearful', ' lost', ' sad', ' lost', ' happy', ' happy', ' independent', ' adequate', ' happy', ' happy', ' happy', ' independent', ' powerless', ' attached', ' happy', ' happy', ' fearless', ' happy', ' powerless', ' fearless', ' attached', ' fearless', ' fearless', ' powerless', ' free', ' esteemed', ' happy', ' fearful', ' fearless', ' free', ' loved', ' alone', ' average', ' independent', ' happy', ' obsessed', ' alone', ' lost', ' independent', ' focused', ' independent', ' fearful', ' fearful', ' independent', ' safe', ' adequate', ' powerless', ' happy', ' independent', ' happy', ' attracted', ' sad', ' happy', ' attracted', ' happy', ' cheated', ' adequate', ' fearless', ' fearful', ' independent', ' sad', ' attached', ' free', ' happy', ' independent', ' free', ' free', ' free', ' free', ' sad', ' sad', ' happy', ' sad', ' free', ' powerless', ' happy', ' sad', ' average', ' happy', ' hated', ' happy', ' free', ' attracted', ' happy', ' happy', ' happy', ' adequate', ' surprise', ' happy', ' sad', ' sad', ' loved', ' angry', ' attracted', ' average', ' entitled', ' happy', ' surprise', ' happy', ' adequate', ' adequate', ' adequate', ' fearful', ' adequate', ' lost', ' happy', ' safe', ' happy', ' angry', ' fearful', ' focused', ' free', ' safe', ' fearful', ' happy', ' independent', ' powerless', ' powerless', ' happy', ' esteemed', ' happy', ' happy', ' independent', ' lost', ' anxious', ' fearful', ' adequate', ' free', ' esteemed', ' happy', ' happy', ' independent', ' apathetic', ' free', ' happy', ' independent', ' esteemed', ' happy', ' sad', ' sad', ' happy', ' adequate', ' happy', ' independent', ' lustful', ' free', ' attached', ' esteemed', ' anxious', ' happy', ' demoralized', ' alone', ' sad', ' happy', ' lost', ' esteemed', ' happy', ' anxious', ' powerless', ' sad', ' independent', ' surprise', ' codependent', ' fearful', ' average', ' focused', ' powerless', ' fearful', ' happy', ' adequate', ' happy', ' happy', ' attracted', ' lost', ' happy', ' happy', ' fearless', ' attracted', ' independent', ' embarrassed', ' angry', ' fearless', ' fearless', ' happy', ' anxious', ' attached', ' fearless', ' powerless', ' attracted', ' happy', ' adequate', ' happy', ' alone', ' attracted', ' happy', ' lost', ' sad', ' cheated', ' independent', ' fearful', ' independent', ' independent', ' sad', ' happy', ' fearful', ' lost', ' safe', ' happy', ' fearful', ' free', ' happy', ' esteemed', ' sad', ' sad', ' independent', ' anxious', ' esteemed', ' sad', ' sad', ' attracted', ' adequate', ' happy', ' powerless', ' free', ' fearful', ' attracted', ' happy', ' anxious', ' fearful', ' sad', ' sad', ' attached', ' alone', ' sad', ' sad', ' alone', ' hated', ' powerless', ' anxious', ' happy', ' independent', ' independent', ' happy', ' fearless', ' happy', ' happy', ' happy', ' happy', ' free', ' happy', ' happy', ' angry', ' happy', ' happy', ' happy', ' angry', ' lost', ' sad', ' surprise', ' average', ' attracted', ' alone', ' esteemed', ' adequate', ' adequate', ' happy', ' alone', ' loved', ' fearless', ' happy', ' happy', ' free', ' sad', ' sad', ' powerless', ' fearful', ' fearless', ' lost', ' fearful', ' independent', ' powerless', ' fearless', ' independent', ' attached', ' fearless', ' anxious', ' powerless', ' powerless', ' fearless', ' free', ' focused', ' adequate', ' sad', ' free', ' powerless', ' powerless', ' singled out', ' focused', ' adequate', ' attracted', ' lost', ' fearless', ' safe', ' happy', ' happy', ' happy', ' independent', ' happy', ' happy', ' average', ' sad', ' independent', ' safe', ' fearful', ' happy', ' happy', ' happy', ' free', ' happy', ' attached', ' fearful', ' fearless', ' happy', ' happy', ' happy', ' anxious', ' happy', ' independent', ' fearless', ' sad', ' fearful', ' attracted', ' esteemed', ' adequate', ' powerless', ' esteemed', ' lost', ' powerless', ' anxious', ' angry', ' lost', ' happy', ' happy', ' happy', ' happy', ' happy', ' fearless', ' average', ' happy', ' happy', ' attracted', ' happy', ' adequate', ' fearless', ' happy', ' fearless', ' happy', ' fearless', ' happy', ' fearless', ' happy', ' fearless', ' happy', ' fearless', ' happy', ' fearless', ' happy', ' fearless', ' happy', ' attracted', ' happy', ' independent', ' free', ' attached', ' loved', ' angry', ' lost', ' happy', ' average', ' anxious', ' fearless', ' attached', ' embarrassed', ' safe', ' happy', ' adequate', ' free', ' happy', ' fearful', ' happy', ' independent', ' sad', ' lost', ' happy', ' happy', ' powerless', ' embarrassed', ' powerless', ' embarrassed', ' powerless', ' embarrassed', ' independent', ' hated', ' happy', ' happy', ' sad', ' fearless', ' happy', ' fearless', ' angry', ' happy', ' free', ' free', ' happy', ' free', ' free', ' free', ' happy', ' attached', ' loved', ' happy', ' free', ' sad', ' hated', ' fearless', ' happy', ' happy', ' happy', ' angry', ' free', ' adequate', ' fearful', ' sad', ' esteemed', ' fearless', ' happy', ' happy', ' independent', ' focused', ' independent', ' ecstatic', ' happy', ' happy', ' happy', ' fearless', ' happy', ' lost', ' happy', ' sad', ' sad', ' lost', ' powerless', ' attracted', ' adequate', ' powerless', ' alone', ' fearful', ' powerless', ' attracted', ' independent', ' angry', ' happy', ' happy', ' happy', ' average', ' happy', ' happy', ' happy', ' fearful', ' loved', ' sad', ' free', ' free', ' fearful', ' fearful', ' sad', ' happy', ' independent', ' safe', ' attracted', ' alone', ' sad', ' attracted', ' independent', ' sad', ' sad', ' attracted', ' average', ' lost', ' average', ' happy', ' attracted', ' independent', ' free', ' happy', ' happy', ' happy', ' happy', ' average', ' happy', ' happy', ' sad', ' fearless', ' happy', ' free', ' fearful', ' sad', ' independent', ' angry', ' loved', ' happy', ' free', ' angry', ' esteemed', ' sad', ' sad', ' sad', ' sad', ' sad', ' sad', ' average', ' powerless', ' angry', ' independent', ' independent', ' lost', ' independent', ' anxious', ' fearful', ' fearless', ' happy', ' happy', ' happy', ' average', ' powerless', ' happy', ' alone', ' independent', ' free', ' fearless', ' adequate', ' independent', ' esteemed', ' free', ' happy', ' free', ' embarrassed', ' lost', ' embarrassed', ' happy', ' powerless', ' happy', ' esteemed', ' fearless', ' happy', ' belittled', ' attracted', ' angry', ' safe', ' fearful', ' sad', ' lost', ' lost', ' free', ' powerless', ' average', ' free', ' angry', ' sad', ' independent', ' independent', ' adequate', ' powerless', ' fearless', ' free', ' fearful', ' surprise', ' attached', ' happy', ' loved', ' surprise', ' esteemed', ' fearful', ' fearful', ' adequate', ' happy', ' esteemed', ' fearless', ' fearless', ' sad', ' lost', ' fearless', ' fearless', ' happy', ' fearful', ' sad', ' lost', ' hated', ' happy', ' embarrassed', ' adequate', ' independent', ' powerless', ' happy', ' angry', ' lost', ' average', ' attracted', ' powerless', ' angry', ' sad', ' happy', ' lost', ' happy', ' independent', ' happy', ' happy', ' free', ' free', ' attracted', ' adequate', ' free', ' powerless', ' sad', ' sad', ' average', ' hated', ' esteemed', ' happy', ' powerless', ' sad', ' sad', ' powerless', ' sad', ' sad', ' fearful', ' esteemed', ' happy', ' esteemed', ' esteemed', ' sad', ' independent', ' happy', ' belittled', ' adequate', ' attracted', ' happy', ' happy', ' happy', ' independent', ' powerless', ' angry', ' fearful', ' average', ' happy', ' independent', ' free', ' anxious', ' powerless', ' adequate', ' independent', ' belittled', ' sad', ' embarrassed', ' sad', ' sad', ' fearful', ' happy', ' sad', ' hated', ' happy', ' lost', ' happy', ' sad', ' powerless', ' happy', ' safe', ' happy', ' independent', ' happy', ' happy', ' happy', ' lost', ' fearful', ' lost', ' lost', ' fearful', ' sad', ' powerless', ' happy', ' happy', ' independent', ' attracted', ' anxious', ' adequate', ' sad', ' happy', ' happy', ' happy', ' sad', ' sad', ' powerless', ' happy', ' happy', ' fearful', ' attached', ' sad', ' attracted', ' cheated', ' embarrassed', ' alone', ' hated', ' happy', ' surprise', ' angry', ' fearful', ' attracted', ' happy', ' ecstatic', ' happy', ' happy', ' attached', ' loved', ' happy', ' happy', ' happy', ' free', ' fearful', ' sad', ' sad', ' average', ' fearful', ' happy', ' happy', ' free', ' happy', ' sad', ' fearful', ' sad', ' happy', ' obsessed', ' alone', ' hated', ' focused', ' adequate', ' sad', ' happy', ' sad', ' powerless', ' average', ' lost', ' happy', ' average', ' lost', ' fearful', ' sad', ' attracted', ' fearful', ' focused', ' happy', ' fearful', ' loved', ' independent', ' happy', ' free', ' happy', ' independent', ' fearful', ' happy', ' alone', ' fearful', ' happy', ' lost', ' happy', ' happy', ' happy', ' happy', ' cheated', ' sad', ' attracted', ' fearful', ' happy', ' attached', ' happy', ' loved', ' free', ' independent', ' attracted', ' attracted', ' sad', ' fearful', ' average', ' fearful', ' free', ' fearful', ' fearful', ' average', ' fearful', ' fearful', ' lost', ' free', ' ecstatic', ' fearful', ' attached', ' fearful', ' sad', ' average', ' angry', ' attached', ' surprise', ' attached', ' loved', ' happy', ' sad', ' happy', ' adequate', ' sad', ' average', ' sad', ' happy', ' happy', ' free', ' alone', ' happy', ' lost', ' attracted', ' happy', ' happy', ' happy', ' alone', ' alone', ' angry', ' lost', ' cheated', ' attracted', ' lost', ' sad', ' powerless', ' alone', ' happy', ' esteemed', ' lost', ' alone', ' free', ' happy', ' happy', ' fearless', ' sad', ' sad', ' sad', ' free', ' happy', ' esteemed', ' happy', ' happy', ' fearful', ' codependent', ' angry', ' average', ' adequate', ' average', ' loved', ' powerless', ' independent', ' fearless', ' focused', ' happy', ' fearful', ' happy', ' average', ' attracted', ' independent', ' cheated', ' sad', ' independent', ' free', ' independent', ' fearful', ' codependent', ' fearful', ' codependent', ' fearful', ' codependent', ' happy', ' fearful', ' codependent', ' fearless', ' powerless', ' adequate', ' focused', ' sad', ' powerless', ' happy', ' happy', ' fearful', ' fearful', ' alone', ' hated', ' happy', ' happy', ' sad', ' attracted', ' attracted', ' powerless', ' attracted', ' independent', ' powerless', ' ecstatic', ' alone', ' fearful', ' fearful', ' angry', ' powerless', ' average', ' attracted', ' lost', ' independent', ' attached', ' happy', ' lost', ' attracted', ' codependent', ' fearful', ' free', ' entitled', ' adequate', ' happy', ' happy', ' esteemed', ' happy', ' alone', ' independent', ' cheated', ' alone', ' free', ' focused', ' esteemed', ' free', ' angry', ' esteemed', ' powerless', ' average', ' focused', ' sad', ' lost', ' alone', ' obsessed', ' adequate', ' free', ' free', ' powerless', ' embarrassed', ' hated', ' sad', ' sad', ' fearless', ' lost', ' esteemed', ' free', ' powerless', ' attached', ' alone', ' powerless', ' happy', ' lost', ' cheated', ' esteemed', ' independent', ' powerless', ' fearful', ' fearful', ' fearful', ' fearful', ' fearful', ' independent', ' demoralized', ' fearful', ' adequate', ' sad', ' sad', ' average', ' adequate', ' esteemed', ' happy', ' esteemed', ' sad', ' average', ' happy', ' happy', ' hated', ' happy', ' attracted', ' attracted', ' sad', ' average', ' focused', ' angry', ' happy', ' adequate', ' happy', ' esteemed', ' angry', ' sad', ' ecstatic', ' hated', ' happy', ' cheated', ' safe', ' happy', ' happy', ' codependent', ' fearful', ' sad', ' sad', ' attracted', ' happy', ' happy', ' attracted', ' attached', ' average', ' adequate', ' free', ' average', ' happy', ' happy', ' happy', ' happy', ' angry', ' esteemed', ' attracted', ' happy', ' happy', ' alone', ' happy', ' lost', ' attracted', ' surprise', ' alone', ' adequate', ' cheated', ' cheated', ' average', ' alone', ' attracted', ' independent', ' attracted', ' lost', ' happy', ' lost', ' lost', ' happy', ' singled out', ' powerless', ' free', ' fearful', ' happy', ' surprise', ' happy', ' adequate', ' adequate', ' lost', ' free', ' free', ' average', ' fearful', ' fearful', ' fearful', ' powerless', ' hated', ' happy', ' attracted', ' powerless', ' independent', ' free', ' powerless', ' powerless', ' independent', ' obsessed', ' powerless', ' happy', ' adequate', ' lost', ' attracted', ' esteemed', ' happy', ' demoralized', ' angry', ' happy', ' powerless', ' attached', ' surprise', ' powerless', ' average', ' happy', ' entitled', ' singled out', ' singled out', ' independent', ' happy', ' singled out', ' powerless', ' esteemed', ' attracted', ' fearful', ' happy', ' codependent', ' happy', ' entitled', ' fearless', ' happy', ' happy', ' independent', ' happy', ' independent', ' surprise', ' happy', ' powerless', ' happy', ' fearful', ' attracted', ' independent', ' independent', ' powerless', ' happy', ' happy', ' surprise', ' happy', ' adequate', ' adequate', ' fearful', ' powerless', ' independent', ' happy', ' adequate', ' independent', ' happy', ' entitled', ' demoralized', ' average', ' anxious', ' obsessed', ' embarrassed', ' angry', ' happy', ' attracted', ' average', ' average', ' powerless', ' lost', ' sad', ' sad', ' independent', ' cheated', ' adequate', ' happy', ' adequate', ' singled out', ' singled out', ' attracted', ' focused', ' free', ' happy', ' attracted', ' attached', ' powerless', ' esteemed', ' attracted', ' lost', ' sad', ' attracted', ' angry', ' happy', ' happy', ' attracted', ' cheated', ' sad', ' powerless', ' embarrassed', ' embarrassed', ' sad', ' fearful', ' focused', ' fearful', ' powerless', ' demoralized', ' happy', ' angry', ' fearful', ' free', ' cheated', ' attracted', ' average', ' happy', ' fearless', ' fearful', ' fearless', ' fearful', ' fearless', ' fearful', ' fearless', ' fearful', ' fearless', ' fearful', ' fearless', ' fearful', ' fearless', ' fearful', ' fearless', ' fearful', ' fearless', ' fearful', ' fearless', ' fearful', ' anxious', ' adequate', ' happy', ' fearful', ' happy', ' adequate', ' happy', ' happy', ' fearful', ' sad', ' attracted', ' adequate', ' surprise', ' happy', ' free', ' surprise', ' fearless', ' fearful', ' fearless', ' fearful', ' fearless', ' fearful', ' fearless', ' fearful', ' fearless', ' fearful', ' average', ' sad', ' happy', ' happy', ' happy', ' sad', ' sad', ' sad', ' sad', ' average', ' entitled', ' angry', ' hated', ' powerless', ' attracted', ' focused', ' esteemed', ' independent', ' happy', ' cheated', ' cheated', ' happy', ' happy', ' happy', ' fearful', ' lost', ' esteemed', ' happy', ' happy', ' hated', ' adequate', ' happy', ' sad', ' happy', ' powerless', ' happy', ' esteemed', ' adequate', ' angry', ' esteemed', ' free', ' singled out', ' happy', ' esteemed', ' happy', ' free', ' angry', ' fearful', ' happy', ' sad', ' sad', ' powerless', ' adequate', ' fearful', ' lost', ' independent', ' attracted', ' cheated', ' fearful', ' adequate', ' happy', ' sad', ' fearful', ' sad', ' fearless', ' attracted', ' lost', ' happy', ' average', ' fearless', ' happy', ' loved', ' fearless', ' anxious', ' attracted', ' attracted', ' surprise', ' attached', ' attracted', ' attached', ' loved', ' cheated', ' happy', ' attracted', ' sad', ' sad', ' happy', ' happy', ' average', ' sad', ' lost', ' loved', ' cheated', ' hated', ' lost', ' cheated', ' independent', ' angry', ' happy', ' fearless', ' fearless', ' fearful', ' adequate', ' sad', ' independent', ' average', ' happy', ' independent', ' independent', ' happy', ' happy', ' independent', ' hated', ' cheated', ' powerless', ' adequate', ' angry', ' free', ' happy', ' happy', ' cheated', ' powerless', ' adequate', ' happy', ' adequate', ' surprise', ' entitled', ' fearful', ' attached', ' loved', ' fearless', ' average', ' loved', ' powerless', ' happy', ' happy', ' sad', ' sad', ' surprise', ' independent', ' happy', ' lost', ' loved', ' independent', ' sad', ' sad', ' ecstatic', ' sad', ' angry', ' independent', ' fearful', ' free', ' happy', ' free', ' happy', ' happy', ' angry', ' average', ' embarrassed', ' happy', ' happy', ' happy', ' adequate', ' happy', ' fearless', ' bored', ' happy', ' happy', ' happy', ' powerless', ' attracted', ' angry', ' fearful', ' esteemed', ' adequate', ' attached', ' happy', ' embarrassed', ' powerless', ' sad', ' hated', ' sad', ' sad', ' attracted', ' happy', ' attached', ' happy', ' adequate', ' embarrassed', ' average', ' embarrassed', ' embarrassed', ' embarrassed', ' lost', ' sad', ' happy', ' free', ' lost', ' adequate', ' embarrassed', ' happy', ' anxious', ' adequate', ' happy', ' sad', ' happy', ' happy', ' sad', ' powerless', ' powerless', ' powerless', ' lost', ' attracted', ' powerless', ' angry', ' sad', ' sad', ' powerless', ' happy', ' powerless', ' sad', ' sad', ' fearful', ' angry', ' free', ' singled out', ' happy', ' free', ' powerless', ' esteemed', ' sad', ' attached', ' safe', ' powerless', ' happy', ' powerless', ' attracted', ' lost', ' lost', ' lost', ' fearful', ' surprise', ' sad', ' adequate', ' happy', ' happy', ' fearless', ' average', ' happy', ' angry', ' attracted', ' anxious', ' attracted', ' happy', ' embarrassed', ' hated', ' independent', ' singled out', ' fearful', ' sad', ' attached', ' sad', ' esteemed', ' sad', ' attracted', ' sad', ' sad', ' angry', ' angry', ' focused', ' average', ' powerless', ' happy', ' sad', ' sad', ' powerless', ' sad', ' entitled', ' independent', ' sad', ' happy', ' powerless', ' codependent', ' fearful', ' fearful', ' focused', ' sad', ' surprise', ' sad', ' happy', ' average', ' sad', ' attracted', ' attracted', ' sad', ' happy', ' happy', ' attracted', ' sad', ' happy', ' free', ' angry', ' attracted', ' sad', ' attracted', ' sad', ' sad', ' sad', ' sad', ' sad', ' esteemed', ' powerless', ' adequate', ' angry', ' free', ' adequate', ' happy', ' happy', ' average', ' angry', ' sad', ' sad', ' attracted', ' hated', ' belittled', ' sad', ' sad', ' fearful', ' demoralized', ' sad', ' sad', ' independent', ' cheated', ' attached', ' loved', ' happy', ' happy', ' happy', ' happy', ' happy', ' happy', ' average', ' free', ' fearful', ' fearful', ' esteemed', ' happy', ' happy', ' fearful', ' attached', ' happy', ' attracted', ' independent', ' cheated', ' independent', ' cheated', ' free', ' sad', ' sad', ' sad', ' free', ' free', ' independent', ' happy', ' embarrassed', ' angry', ' attracted', ' sad', ' esteemed', ' adequate', ' happy', ' independent', ' powerless', ' safe', ' adequate', ' attached', ' fearful', ' independent', ' sad', ' obsessed', ' happy', ' happy', ' powerless', ' happy', ' powerless', ' lost', ' free', ' happy', ' happy', ' happy', ' belittled', ' happy', ' fearful', ' happy', ' independent', ' attracted', ' fearless', ' happy', ' sad', ' cheated', ' fearless', ' alone', ' hated', ' powerless', ' happy', ' average', ' alone', ' hated', ' fearless', ' independent', ' attracted', ' fearful', ' happy', ' sad', ' adequate', ' sad', ' happy', ' happy', ' fearful', ' powerless', ' embarrassed', ' happy', ' powerless', ' fearless', ' powerless', ' happy', ' attracted', ' loved', ' powerless', ' sad', ' happy', ' free', ' powerless', ' sad', ' happy', ' attracted', ' lost', ' happy', ' sad', ' sad', ' happy', ' happy', ' cheated', ' free', ' adequate', ' fearful', ' lost', ' demoralized', ' safe', ' happy', ' independent', ' fearful', ' esteemed', ' sad', ' powerless', ' independent', ' independent', ' happy', ' happy', ' adequate', ' happy', ' average', ' happy', ' attached', ' adequate', ' happy', ' angry', ' happy', ' sad', ' sad', ' adequate', ' lustful', ' sad', ' esteemed', ' happy', ' independent', ' esteemed', ' sad', ' sad', ' happy', ' attached', ' fearless', ' adequate', ' happy', ' sad', ' independent', ' attracted', ' average', ' attracted', ' powerless', ' esteemed', ' happy', ' happy', ' derailed', ' happy', ' happy', ' fearful', ' free', ' angry', ' attached', ' fearful', ' sad', ' surprise', ' sad', ' sad', ' attracted', ' lost', ' average', ' lost', ' sad', ' sad', ' powerless', ' happy', ' independent', ' independent', ' surprise', ' alone', ' sad', ' attached', ' loved', ' average', ' fearless', ' lost', ' happy', ' independent', ' adequate', ' average', ' independent', ' happy', ' happy', ' lost', ' happy', ' adequate', ' fearful', ' surprise', ' obsessed', ' singled out', ' singled out', ' loved', ' fearful', ' powerless', ' independent', ' free', ' average', ' fearless', ' adequate', ' happy', ' happy', ' hated', ' powerless', ' singled out', ' singled out', ' independent', ' independent', ' fearful', ' entitled', ' anxious', ' sad', ' sad', ' average', ' sad', ' sad', ' loved', ' attached', ' happy', ' loved', ' powerless', ' happy', ' happy', ' attached', ' loved', ' attached', ' happy', ' average', ' happy', ' happy', ' happy', ' happy', ' powerless', ' happy', ' adequate', ' adequate', ' adequate', ' happy', ' average', ' independent', ' lost', ' attracted', ' cheated', ' happy', ' attracted', ' independent', ' average', ' happy', ' independent', ' independent', ' happy', ' happy', ' average', ' independent', ' happy', ' happy', ' happy', ' independent', ' happy', ' lost', ' lost', ' loved', ' happy', ' happy', ' loved', ' average', ' happy', ' independent', ' independent', ' entitled', ' happy', ' happy', ' happy', ' independent', ' happy', ' happy', ' demoralized', ' surprise', ' independent', ' sad', ' happy', ' free', ' happy', ' happy', ' surprise', ' fearful', ' happy', ' lost', ' happy', ' powerless', ' angry', ' fearful', ' powerless', ' powerless', ' sad', ' sad', ' powerless', ' happy', ' sad', ' sad', ' happy', ' entitled', ' entitled', ' surprise', ' independent', ' safe', ' sad', ' happy', ' happy', ' average', ' happy', ' attracted', ' cheated', ' happy', ' attached', ' attached', ' happy', ' fearful', ' happy', ' attracted', ' sad', ' sad', ' free', ' attached', ' cheated', ' attracted', ' attracted', ' fearful', ' fearful', ' happy', ' fearful', ' happy', ' happy', ' adequate', ' sad', ' sad', ' powerless', ' average', ' powerless', ' loved', ' fearful', ' sad', ' attracted', ' fearful', ' independent', ' happy', ' cheated', ' happy', ' adequate', ' happy', ' adequate', ' happy', ' adequate', ' happy', ' adequate', ' happy', ' adequate', ' cheated', ' happy', ' adequate', ' happy', ' happy', ' adequate', ' happy', ' average', ' happy', ' happy', ' free', ' happy', ' lost', ' average', ' independent', ' safe', ' happy', ' fearful', ' sad', ' surprise', ' anxious', ' happy', ' happy', ' anxious', ' fearful', ' attracted', ' fearful', ' attracted', ' attracted', ' attracted', ' attracted', ' embarrassed', ' lost', ' adequate', ' adequate', ' independent', ' demoralized', ' independent', ' codependent', ' fearful', ' free', ' singled out', ' average', ' happy', ' fearful', ' alone', ' attracted', ' average', ' happy', ' surprise', ' fearless', ' independent', ' powerless', ' happy', ' fearful', ' angry', ' surprise', ' powerless', ' esteemed', ' average', ' independent', ' average', ' esteemed', ' happy', ' happy', ' free', ' happy', ' fearful', ' surprise', ' happy', ' hated', ' singled out', ' happy', ' sad', ' adequate', ' lost', ' independent', ' cheated', ' hated', ' cheated', ' lost', ' independent', ' fearful', ' sad', ' obsessed', ' free', ' attached', ' anxious', ' lost', ' happy', ' powerless', ' lost', ' sad', ' happy', ' happy', ' sad', ' lost', ' lost', ' adequate', ' happy', ' average', ' lost', ' happy', ' sad', ' happy', ' sad', ' sad', ' burdened', ' codependent', ' fearful', ' attached', ' fearful', ' sad', ' happy', ' independent', ' independent', ' powerless', ' independent', ' fearless', ' attracted', ' free', ' independent', ' happy', ' adequate', ' happy', ' attached', ' angry', ' sad', ' sad', ' sad', ' adequate', ' independent', ' happy', ' focused', ' loved', ' sad', ' attracted', ' happy', ' free', ' independent', ' happy', ' average', ' happy', ' happy', ' independent', ' powerless', ' powerless', ' loved', ' happy', ' codependent', ' happy', ' fearful', ' free', ' happy', ' happy', ' attached', ' independent', ' happy', ' attracted', ' esteemed', ' loved', ' sad', ' sad', ' adequate', ' lost', ' sad', ' safe', ' happy', ' independent', ' powerless', ' fearful', ' average', ' demoralized', ' sad', ' attracted', ' happy', ' happy', ' happy', ' independent', ' independent', ' sad', ' happy', ' esteemed', ' free', ' average', ' fearful', ' anxious', ' cheated', ' happy', ' happy', ' happy', ' happy', ' happy', ' sad', ' esteemed', ' angry', ' happy', ' happy', ' happy', ' happy', ' independent', ' happy', ' attracted', ' happy', ' happy', ' happy', ' anxious', ' happy', ' free', ' happy', ' esteemed', ' happy', ' happy', ' happy', ' lost', ' entitled', ' happy', ' happy', ' free', ' surprise', ' esteemed', ' free', ' average', ' happy', ' happy', ' happy', ' anxious', ' surprise', ' embarrassed', ' esteemed', ' sad', ' average', ' average', ' fearful', ' lost', ' fearless', ' free', ' sad', ' sad', ' esteemed', ' happy', ' independent', ' free', ' happy', ' lost', ' alone', ' lost', ' alone', ' sad', ' happy', ' happy', ' independent', ' esteemed', ' fearless', ' independent', ' free', ' happy', ' independent', ' happy', ' happy', ' attracted', ' happy', ' powerless', ' independent', ' independent', ' free', ' happy', ' independent', ' independent', ' independent', ' attracted', ' happy', ' independent', ' happy', ' sad', ' sad', ' adequate', ' happy', ' free', ' happy', ' sad', ' hated', ' esteemed', ' happy', ' free', ' happy', ' adequate', ' free', ' happy', ' fearful', ' fearless', ' attracted', ' powerless', ' alone', ' surprise', ' surprise', ' happy', ' attracted', ' esteemed', ' embarrassed', ' surprise', ' happy', ' lost', ' happy', ' surprise', ' powerless', ' fearful', ' esteemed', ' surprise', ' happy', ' happy', ' free', ' ecstatic', ' powerless', ' ecstatic', ' powerless', ' sad', ' sad', ' fearful', ' alone', ' free', ' ecstatic', ' happy', ' free', ' anxious', ' happy', ' fearful', ' adequate', ' happy', ' happy', ' sad', ' free', ' sad', ' free', ' esteemed', ' free', ' adequate', ' happy', ' free', ' fearless', ' fearless', ' lost', ' attracted', ' happy', ' attracted', ' lost', ' fearful', ' average', ' happy', ' happy', ' free', ' average', ' happy', ' codependent', ' fearful', ' free', ' happy', ' happy', ' esteemed', ' happy', ' happy', ' lost', ' powerless', ' free', ' esteemed', ' cheated', ' attached', ' happy', ' sad', ' average', ' happy', ' happy', ' happy', ' focused', ' free', ' fearful', ' fearless', ' lost', ' happy', ' fearless', ' average', ' sad', ' free', ' attracted', ' cheated', ' happy', ' free', ' free', ' free', ' happy', ' free', ' ecstatic', ' free', ' lost', ' happy', ' attracted', ' happy', ' free', ' free', ' adequate', ' angry', ' independent', ' attracted', ' surprise', ' powerless', ' fearful', ' apathetic', ' adequate', ' fearful', ' free', ' fearful', ' average', ' sad', ' happy', ' happy', ' attached', ' attracted', ' hated', ' angry', ' angry', ' fearful', ' angry', ' happy', ' adequate', ' anxious', ' embarrassed', ' anxious', ' happy', ' obsessed', ' angry', ' independent', ' sad', ' sad', ' attracted', ' attracted', ' attracted', ' happy', ' sad', ' fearful', ' fearful', ' happy', ' happy', ' angry', ' sad', ' happy', ' attached', ' powerless', ' free', ' happy', ' happy', ' happy', ' happy', ' attracted', ' happy', ' happy', ' happy', ' esteemed', ' happy', ' happy', ' free', ' lost', ' happy', ' free', ' lost', ' independent', ' happy', ' happy', ' adequate', ' powerless', ' demoralized', ' attached', ' independent', ' attracted', ' attracted', ' attracted', ' happy', ' independent', ' fearless', ' apathetic', ' happy', ' free', ' sad', ' sad', ' free', ' surprise', ' attracted', ' esteemed', ' happy', ' powerless', ' independent', ' surprise', ' fearful', ' fearful', ' independent', ' sad', ' independent', ' fearful', ' attracted', ' happy', ' adequate', ' average', ' happy', ' happy', ' independent', ' fearful', ' loved', ' hated', ' angry', ' focused', ' independent', ' powerless', ' average', ' happy', ' attracted', ' loved', ' happy', ' lost', ' average', ' fearful', ' attracted', ' focused', ' free', ' free', ' free', ' lost', ' attached', ' fearful', ' attached', ' adequate', ' happy', ' independent', ' free', ' attracted', ' alone', ' hated', ' happy', ' happy', ' happy', ' powerless', ' cheated', ' lost', ' happy', ' happy', ' happy', ' average', ' happy', ' independent', ' free', ' cheated', ' belittled', ' happy', ' ecstatic', ' happy', ' happy', ' happy', ' attracted', ' happy', ' independent', ' happy', ' powerless', ' happy', ' loved', ' fearful', ' happy', ' sad', ' independent', ' fearful', ' attracted', ' happy', ' safe', ' happy', ' anxious', ' fearless', ' esteemed', ' focused', ' happy', ' free', ' fearless', ' free', ' free', ' focused', ' angry', ' esteemed', ' happy', ' ecstatic', ' esteemed', ' happy', ' lost', ' happy', ' fearless', ' lustful', ' sad', ' cheated', ' happy', ' cheated', ' happy', ' adequate', ' lost', ' alone', ' happy', ' fearful', ' happy', ' independent', ' fearful', ' average', ' average', ' free', ' attracted', ' attracted', ' sad', ' happy', ' sad', ' sad', ' surprise', ' surprise', ' attracted', ' esteemed', ' happy', ' happy', ' attracted', ' average', ' happy', ' average', ' free', ' bored', ' apathetic', ' codependent', ' sad', ' sad', ' happy', ' cheated', ' powerless', ' happy', ' average', ' fearless', ' demoralized', ' happy', ' happy', ' adequate', ' sad', ' fearful', ' happy', ' happy', ' happy', ' happy', ' surprise', ' happy', ' free', ' happy', ' adequate', ' happy', ' happy', ' happy', ' happy', ' sad', ' sad', ' happy', ' happy', ' happy', ' free', ' happy', ' adequate', ' surprise', ' happy', ' happy', ' happy', ' happy', ' happy', ' lost', ' loved', ' happy', ' surprise', ' happy', ' esteemed', ' happy', ' happy', ' happy', ' attracted', ' alone', ' hated', ' happy', ' happy', ' sad', ' lost', ' demoralized', ' happy', ' happy', ' happy', ' fearless', ' happy', ' happy', ' happy', ' happy', ' surprise', ' happy', ' sad', ' sad', ' sad', ' happy', ' codependent', ' adequate', ' fearful', ' happy', ' happy', ' hated', ' sad', ' sad', ' happy', ' fearful', ' powerless', ' attracted', ' happy', ' happy', ' sad', ' sad', ' happy', ' safe', ' happy', ' sad', ' happy', ' sad', ' sad', ' sad', ' sad', ' sad', ' happy', ' happy', ' happy', ' happy', ' sad', ' sad', ' fearful', ' lost', ' lost', ' attracted', ' happy', ' happy', ' fearful', ' attracted', ' happy', ' sad', ' cheated', ' fearless', ' demoralized', ' happy', ' free', ' esteemed', ' cheated', ' attracted', ' happy', ' apathetic', ' safe', ' happy', ' happy', ' happy', ' esteemed', ' lost', ' happy', ' average', ' esteemed', ' attracted', ' happy', ' free', ' esteemed', ' cheated', ' attracted', ' free', ' happy', ' esteemed', ' independent', ' happy', ' happy', ' adequate', ' attracted', ' esteemed', ' adequate', ' surprise', ' surprise', ' lost', ' happy', ' independent', ' esteemed', ' fearful', ' free', ' happy', ' happy', ' happy', ' free', ' happy', ' happy', ' free', ' happy', ' esteemed', ' average', ' average', ' happy', ' embarrassed', ' happy', ' sad', ' adequate', ' alone', ' hated', ' happy', ' average', ' sad', ' adequate', ' adequate', ' powerless', ' happy', ' loved', ' sad', ' free', ' attached', ' happy', ' free', ' happy', ' happy', ' entitled', ' powerless', ' happy', ' ecstatic', ' attracted', ' happy', ' esteemed', ' attracted', ' powerless', ' esteemed', ' focused', ' powerless', ' fearless', ' independent', ' attracted', ' apathetic', ' sad', ' happy', ' esteemed', ' independent', ' esteemed', ' powerless', ' angry', ' belittled', ' attracted', ' loved', ' esteemed', ' happy', ' lost', ' happy', ' lost', ' fearful', ' esteemed', ' independent', ' free', ' independent', ' free', ' sad', ' adequate', ' happy', ' sad', ' free', ' happy', ' lost', ' lost', ' independent', ' fearful', ' surprise', ' fearful', ' happy', ' fearful', ' loved', ' sad', ' sad', ' attracted', ' sad', ' sad', ' sad', ' sad', ' independent', ' happy', ' surprise', ' surprise', ' surprise', ' happy', ' happy', ' happy', ' esteemed', ' happy', ' happy', ' esteemed', ' adequate', ' alone', ' hated', ' happy', ' independent', ' free', ' independent', ' attached', ' happy', ' attracted', ' attracted', ' attached', ' happy', ' happy', ' fearful', ' adequate', ' happy', ' happy', ' fearless', ' happy', ' esteemed', ' independent', ' attracted', ' happy', ' happy', ' average', ' independent', ' free', ' attached', ' angry', ' attracted', ' esteemed', ' sad', ' sad', ' independent', ' happy', ' happy', ' happy', ' free', ' happy', ' fearless', ' independent', ' powerless', ' attracted', ' sad', ' sad', ' happy', ' free', ' independent', ' powerless', ' happy', ' happy', ' esteemed', ' happy', ' fearless', ' independent', ' lost', ' lost', ' happy', ' fearful', ' adequate', ' fearless', ' sad', ' esteemed', ' entitled', ' happy', ' powerless', ' happy', ' fearless', ' independent', ' happy', ' fearless', ' independent', ' independent', ' fearless', ' happy', ' happy', ' happy', ' fearless', ' independent', ' lost', ' happy', ' happy', ' happy', ' happy', ' happy', ' happy', ' happy', ' happy', ' fearless', ' independent', ' attached', ' esteemed', ' lost', ' cheated', ' lost', ' powerless', ' happy', ' independent', ' attracted', ' lost', ' attached', ' loved', ' happy', ' happy', ' entitled', ' entitled', ' free', ' sad', ' adequate', ' independent', ' entitled', ' average', ' happy', ' happy', ' happy', ' fearless', ' independent', ' happy', ' free', ' happy', ' happy', ' obsessed', ' happy', ' happy', ' fearless', ' independent', ' happy', ' happy', ' happy', ' fearless', ' independent', ' happy', ' fearless', ' independent', ' independent', ' anxious', ' happy', ' happy', ' happy', ' happy', ' happy', ' independent', ' happy', ' happy', ' fearless', ' independent', ' lost', ' sad', ' esteemed', ' happy', ' fearless', ' independent', ' fearful', ' happy', ' adequate', ' fearless', ' powerless', ' happy', ' demoralized', ' powerless', ' alone', ' happy', ' happy', ' surprise', ' happy', ' happy', ' sad', ' adequate', ' average', ' lost', ' fearful', ' happy', ' attracted', ' happy', ' sad', ' sad', ' happy', ' alone', ' hated', ' average', ' adequate', ' sad', ' sad', ' sad', ' attracted', ' attracted', ' esteemed', ' happy', ' adequate', ' bored', ' powerless', ' apathetic', ' happy', ' lost', ' happy', ' happy', ' adequate', ' adequate', ' adequate', ' lost', ' alone', ' happy', ' loved', ' alone', ' hated', ' sad', ' happy', ' alone', ' esteemed', ' happy', ' happy', ' happy', ' cheated', ' adequate', ' alone', ' happy', ' happy', ' attracted', ' attracted', ' alone', ' lost', ' happy', ' alone', ' esteemed', ' happy', ' fearful', ' attached', ' loved', ' attached', ' loved', ' happy', ' happy', ' happy', ' esteemed', ' powerless', ' embarrassed', ' independent', ' happy', ' adequate', ' fearful', ' independent', ' angry', ' powerless', ' happy', ' safe', ' happy', ' adequate', ' loved', ' happy', ' sad', ' sad', ' sad', ' sad', ' happy', ' attracted', ' free', ' happy', ' free', ' happy', ' alone', ' happy', ' happy', ' adequate', ' adequate', ' sad', ' powerless', ' fearful', ' powerless', ' happy', ' attached', ' lost', ' happy', ' happy', ' fearful', ' powerless', ' hated', ' happy', ' sad', ' esteemed', ' fearless', ' angry', ' free', ' attracted', ' fearful', ' sad', ' angry', ' adequate', ' happy', ' focused', ' adequate', ' happy', ' demoralized', ' independent', ' attracted', ' free', ' independent', ' happy', ' average', ' happy', ' independent', ' happy', ' happy', ' obsessed', ' independent', ' happy', ' average', ' happy', ' free', ' fearful', ' happy', ' sad', ' hated', ' belittled', ' esteemed', ' average', ' attracted', ' powerless', ' attached', ' powerless', ' anxious', ' sad', ' sad', ' adequate', ' happy', ' average', ' happy', ' alone', ' happy', ' attracted', ' fearful', ' sad', ' happy', ' happy', ' fearless', ' sad', ' happy', ' sad', ' free', ' happy', ' happy', ' sad', ' happy', ' independent', ' angry', ' free', ' attracted', ' bored', ' powerless', ' happy', ' independent', ' esteemed', ' attracted', ' surprise', ' happy', ' sad', ' lost', ' attracted', ' ecstatic', ' attracted', ' adequate', ' happy', ' happy', ' sad', ' sad', ' hated', ' esteemed', ' adequate', ' hated', ' happy', ' fearful', ' fearful', ' fearless', ' independent', ' powerless', ' fearful', ' sad', ' sad', ' fearful', ' happy', ' happy', ' lost', ' free', ' free', ' loved', ' angry', ' happy', ' sad', ' average', ' powerless', ' powerless', ' cheated', ' powerless', ' happy', ' happy', ' fearful', ' average', ' powerless', ' powerless', ' alone', ' alone', ' esteemed', ' hated', ' powerless', ' happy', ' anxious', ' free', ' attracted', ' esteemed', ' fearless', ' surprise', ' fearful', ' happy', ' independent', ' lost', ' angry', ' happy', ' free', ' happy', ' attracted', ' safe', ' happy', ' happy', ' happy', ' free', ' sad', ' angry', ' happy', ' lost', ' surprise', ' happy', ' attracted', ' happy', ' safe', ' happy', ' attached', ' loved', ' free', ' fearless', ' surprise', ' free', ' sad', ' fearless', ' happy', ' happy', ' happy', ' happy', ' happy', ' belittled', ' happy', ' fearless', ' happy', ' happy', ' free', ' happy', ' happy', ' happy', ' happy', ' free', ' happy', ' happy', ' powerless', ' powerless', ' sad', ' happy', ' adequate', ' fearless', ' alone', ' happy', ' happy', ' happy', ' happy', ' attached', ' happy', ' safe', ' esteemed', ' happy', ' happy', ' adequate', ' happy', ' happy', ' fearful', ' loved', ' happy', ' independent', ' independent', ' happy', ' attracted', ' angry', ' free', ' attached', ' happy', ' fearless', ' fearful', ' sad', ' free', ' hated', ' esteemed', ' fearless', ' adequate', ' happy', ' happy', ' happy', ' sad', ' attracted', ' fearless', ' fearful', ' adequate', ' esteemed', ' sad', ' happy', ' fearless', ' happy', ' fearful', ' fearless', ' happy', ' esteemed', ' happy', ' happy', ' ecstatic', ' happy', ' happy', ' independent', ' independent', ' happy', ' happy', ' fearless', ' happy', ' average', ' fearless', ' fearful', ' hated', ' happy', ' independent', ' happy', ' happy', ' happy', ' lost', ' happy', ' happy', ' happy', ' happy', ' happy', ' happy', ' fearless', ' attached', ' happy', ' happy', ' happy', ' happy', ' happy', ' attracted', ' happy', ' fearless', ' average', ' happy', ' happy', ' fearful', ' happy', ' happy', ' happy', ' happy', ' ecstatic', ' happy', ' happy', ' happy', ' fearful', ' happy', ' happy', ' happy', ' happy', ' happy', ' happy', ' independent', ' independent', ' happy', ' happy', ' happy', ' happy', ' happy', ' free', ' fearless', ' happy', ' happy', ' independent', ' fearless', ' attracted', ' happy', ' happy', ' happy', ' happy', ' fearful', ' happy', ' fearful', ' happy', ' fearful', ' powerless', ' alone', ' sad', ' happy', ' average', ' attracted', ' ecstatic', ' surprise', ' alone', ' free', ' happy', ' happy', ' surprise', ' free', ' sad', ' codependent', ' happy', ' sad', ' sad', ' adequate', ' happy', ' happy', ' surprise', ' happy', ' safe', ' happy', ' happy', ' singled out', ' happy', ' esteemed', ' average', ' average', ' average', ' fearless', ' hated', ' attracted', ' attracted', ' happy', ' esteemed', ' happy', ' happy', ' embarrassed', ' happy', ' happy', ' happy', ' happy', ' happy', ' happy', ' happy', ' happy', ' happy', ' sad', ' attracted', ' happy', ' sad', ' sad', ' sad', ' anxious', ' powerless', ' attached', ' loved', ' esteemed', ' independent', ' happy', ' free', ' sad', ' independent', ' attracted', ' esteemed', ' happy', ' fearful', ' happy', ' free', ' cheated', ' fearless', ' happy', ' esteemed', ' free', ' happy', ' sad', ' esteemed', ' sad', ' sad', ' lost', ' embarrassed', ' esteemed', ' happy', ' happy', ' esteemed', ' fearless', ' fearless', ' lost', ' lost', ' fearless', ' happy', ' safe', ' sad', ' safe', ' average', ' independent', ' free', ' singled out', ' lost', ' happy', ' fearful', ' esteemed', ' fearless', ' lost', ' fearless', ' lost', ' hated', ' fearful', ' sad', ' fearful', ' attracted', ' happy', ' happy', ' esteemed', ' fearful', ' focused', ' independent', ' bored', ' independent', ' apathetic', ' fearful', ' happy', ' free', ' surprise', ' independent', ' sad', ' adequate', ' sad', ' independent', ' independent', ' fearless', ' lost', ' fearless', ' independent', ' happy', ' angry', ' hated', ' lost', ' lost', ' happy', ' free', ' free', ' free', ' fearless', ' powerless', ' obsessed', ' singled out', ' singled out', ' average', ' entitled', ' happy', ' free', ' adequate', ' sad', ' sad', ' happy', ' happy', ' ecstatic', ' attracted', ' entitled', ' entitled', ' cheated', ' happy', ' attracted', ' angry', ' lost', ' happy', ' attracted', ' happy', ' attracted', ' attracted', ' embarrassed', ' attracted', ' esteemed', ' attracted', ' fearful', ' attracted', ' attracted', ' attracted', ' attracted', ' hated', ' attracted', ' attracted', ' adequate', ' attached', ' free', ' happy', ' happy', ' hated', ' happy', ' cheated', ' attracted', ' free', ' lost', ' ecstatic', ' happy', ' cheated', ' sad', ' sad', ' happy', ' attached', ' happy', ' lost', ' embarrassed', ' anxious', ' happy', ' attracted', ' fearless', ' attracted', ' lost', ' sad', ' attracted', ' happy', ' independent', ' sad', ' sad', ' powerless', ' happy', ' attracted', ' focused', ' happy', ' happy', ' derailed', ' powerless', ' powerless', ' average', ' happy', ' happy', ' fearful', ' independent', ' independent', ' happy', ' fearful', ' angry', ' angry', ' happy', ' happy', ' safe', ' adequate', ' free', ' sad', ' happy', ' esteemed', ' happy', ' happy', ' angry', ' cheated', ' alone', ' happy', ' happy', ' happy', ' attracted', ' powerless', ' alone', ' sad', ' lost', ' adequate', ' happy', ' independent', ' independent', ' cheated', ' happy', ' happy', ' ecstatic', ' adequate', ' powerless', ' free', ' fearful', ' average', ' sad', ' adequate', ' happy', ' happy', ' happy', ' adequate', ' cheated', ' happy', ' attracted', ' adequate', ' fearless', ' happy', ' independent', ' happy', ' attracted', ' fearful', ' fearful', ' happy', ' codependent', ' cheated', ' sad', ' attached', ' hated', ' happy', ' independent', ' happy', ' happy', ' happy', ' hated', ' esteemed', ' esteemed', ' safe', ' happy', ' safe', ' happy', ' sad', ' independent', ' fearful', ' esteemed', ' esteemed', ' singled out', ' average', ' sad', ' adequate', ' happy', ' sad', ' esteemed', ' loved', ' average', ' sad', ' sad', ' sad', ' esteemed', ' sad', ' alone', ' attached', ' happy', ' loved', ' attracted', ' focused', ' happy', ' happy', ' angry', ' sad', ' happy', ' alone', ' fearful', ' happy', ' happy', ' happy', ' sad', ' average', ' ecstatic', ' attracted', ' fearful', ' attracted', ' happy', ' happy', ' sad', ' fearful', ' independent', ' independent', ' happy', ' fearful', ' fearful', ' anxious', ' hated', ' happy', ' happy', ' happy', ' esteemed', ' happy', ' happy', ' happy', ' happy', ' happy', ' happy', ' ecstatic', ' ecstatic', ' attracted', ' sad', ' adequate', ' happy', ' adequate', ' happy', ' esteemed', ' adequate', ' focused', ' singled out', ' surprise', ' sad', ' free', ' embarrassed', ' happy', ' happy', ' singled out', ' singled out', ' happy', ' sad', ' happy', ' esteemed', ' free', ' attracted', ' loved', ' fearful', ' angry', ' esteemed', ' happy', ' happy', ' free', ' attracted', ' adequate', ' independent', ' happy', ' happy', ' ecstatic', ' happy', ' happy', ' happy', ' happy', ' sad', ' sad', ' sad', ' happy', ' powerless', ' powerless', ' happy', ' surprise', ' sad', ' sad', ' happy', ' independent', ' attached', ' esteemed', ' loved', ' sad', ' adequate', ' happy', ' independent', ' average', ' lost', ' angry', ' powerless', ' sad', ' fearful', ' sad', ' happy', ' hated', ' lost', ' free', ' happy', ' fearless', ' fearless', ' free', ' powerless', ' alone', ' happy', ' attached', ' embarrassed', ' sad', ' sad', ' embarrassed', ' attached', ' anxious', ' happy', ' happy', ' happy', ' average', ' esteemed', ' sad', ' average', ' alone', ' happy', ' sad', ' happy', ' happy', ' happy', ' attracted', ' attached', ' focused', ' happy', ' happy', ' surprise', ' happy', ' lost', ' fearful']\n"
     ]
    }
   ],
   "source": [
    "emotion_list_modi = []\n",
    "for i in range(len(modi_df['EmotionWords'])):\n",
    "    emotion_list_modi = emotion_list_modi + modi_df['EmotionWords'][i]\n",
    "\n",
    "print(emotion_list_modi)"
   ]
  },
  {
   "cell_type": "code",
   "execution_count": 71,
   "id": "1132bb4b",
   "metadata": {},
   "outputs": [
    {
     "name": "stdout",
     "output_type": "stream",
     "text": [
      "Counter({' happy': 1637, ' sad': 658, ' fearful': 419, ' independent': 395, ' free': 349, ' attracted': 311, ' powerless': 292, ' lost': 273, ' adequate': 269, ' esteemed': 240, ' fearless': 221, ' average': 219, ' cheated': 159, ' angry': 157, ' attached': 140, ' alone': 129, ' surprise': 121, ' hated': 109, ' loved': 102, ' anxious': 77, ' focused': 57, ' embarrassed': 52, ' singled out': 51, ' safe': 42, ' entitled': 35, ' ecstatic': 32, ' demoralized': 30, ' codependent': 24, ' obsessed': 20, ' apathetic': 15, ' belittled': 13, ' bored': 7, ' lustful': 6, ' derailed': 5, ' burdened': 4})\n"
     ]
    }
   ],
   "source": [
    "emotion_list_modi_counter = Counter(emotion_list_modi)\n",
    "print(emotion_list_modi_counter)"
   ]
  },
  {
   "cell_type": "code",
   "execution_count": 72,
   "id": "6f7375a9",
   "metadata": {},
   "outputs": [
    {
     "data": {
      "image/png": "[encoded data removed]",
      "text/plain": [
       "<Figure size 640x480 with 1 Axes>"
      ]
     },
     "metadata": {},
     "output_type": "display_data"
    }
   ],
   "source": [
    "# plt.bar(emotion_counter.keys() , emotion_counter.values() ,color=\"purple\")\n",
    "\n",
    "fig ,axl = plt.subplots()\n",
    "axl.bar(emotion_list_modi_counter.keys() , emotion_list_modi_counter.values() ,color=\"purple\")    \n",
    "fig.autofmt_xdate()\n",
    "plt.xticks(rotation=90)\n",
    "plt.xlabel(\"Number of Emotions\")\n",
    "plt.ylabel(\"Score of Emotions\")\n",
    "plt.show()"
   ]
  },
  {
   "cell_type": "code",
   "execution_count": null,
   "id": "c6a35758",
   "metadata": {},
   "outputs": [],
   "source": [
    "# plt.bar(emotion_counter.keys() , emotion_counter.values() ,color=\"purple\")\n",
    "\n",
    "fig ,axl = plt.subplots()\n",
    "for i in range(len(modi_df['Tweet'])):\n",
    "    axl.bar(modi_df['Emotion_count'][i].keys() , modi_df['Emotion_count'][i].values() ,color=\"purple\", width=0.8)\n",
    "    \n",
    "fig.autofmt_xdate()\n",
    "plt.xticks(rotation=90)\n",
    "plt.xlabel(\"Number of Emotions\")\n",
    "plt.ylabel(\"Score of Emotions\")\n",
    "plt.show()"
   ]
  }
 ],
 "metadata": {
  "kernelspec": {
   "display_name": "Python 3 (ipykernel)",
   "language": "python",
   "name": "python3"
  },
  "language_info": {
   "codemirror_mode": {
    "name": "ipython",
    "version": 3
   },
   "file_extension": ".py",
   "mimetype": "text/x-python",
   "name": "python",
   "nbconvert_exporter": "python",
   "pygments_lexer": "ipython3",
   "version": "3.9.13"
  }
 },
 "nbformat": 4,
 "nbformat_minor": 5
}
